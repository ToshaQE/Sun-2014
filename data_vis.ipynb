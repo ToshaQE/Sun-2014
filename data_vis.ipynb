{
 "cells": [
  {
   "cell_type": "code",
   "execution_count": 2,
   "metadata": {},
   "outputs": [
    {
     "ename": "AttributeError",
     "evalue": "module 'seaborn' has no attribute 'set_xticks'",
     "output_type": "error",
     "traceback": [
      "\u001b[0;31m---------------------------------------------------------------------------\u001b[0m",
      "\u001b[0;31mAttributeError\u001b[0m                            Traceback (most recent call last)",
      "\u001b[1;32m/home/apoletaev/VSCodeProjects/Sun-2014/data_vis.ipynb Cell 1'\u001b[0m in \u001b[0;36m<cell line: 4>\u001b[0;34m()\u001b[0m\n\u001b[1;32m      <a href='vscode-notebook-cell:/home/apoletaev/VSCodeProjects/Sun-2014/data_vis.ipynb#ch0000001?line=1'>2</a>\u001b[0m \u001b[39mimport\u001b[39;00m \u001b[39mpandas\u001b[39;00m \u001b[39mas\u001b[39;00m \u001b[39mpd\u001b[39;00m\n\u001b[1;32m      <a href='vscode-notebook-cell:/home/apoletaev/VSCodeProjects/Sun-2014/data_vis.ipynb#ch0000001?line=2'>3</a>\u001b[0m sns\u001b[39m.\u001b[39mset(style\u001b[39m=\u001b[39m\u001b[39m\"\u001b[39m\u001b[39mdarkgrid\u001b[39m\u001b[39m\"\u001b[39m)\n\u001b[0;32m----> <a href='vscode-notebook-cell:/home/apoletaev/VSCodeProjects/Sun-2014/data_vis.ipynb#ch0000001?line=3'>4</a>\u001b[0m sns\u001b[39m.\u001b[39;49mset_xticks(\u001b[39mrange\u001b[39m(\u001b[39m0\u001b[39m,\u001b[39m2000\u001b[39m,\u001b[39m200\u001b[39m))\n\u001b[1;32m      <a href='vscode-notebook-cell:/home/apoletaev/VSCodeProjects/Sun-2014/data_vis.ipynb#ch0000001?line=4'>5</a>\u001b[0m sns\u001b[39m.\u001b[39mset_xticklabels(\u001b[39mlist\u001b[39m(\u001b[39mrange\u001b[39m(\u001b[39m0\u001b[39m,\u001b[39m2000\u001b[39m,\u001b[39m200\u001b[39m)))\n",
      "\u001b[0;31mAttributeError\u001b[0m: module 'seaborn' has no attribute 'set_xticks'"
     ]
    }
   ],
   "source": [
    "import seaborn as sns\n",
    "import pandas as pd\n",
    "sns.set(style=\"darkgrid\")\n"
   ]
  },
  {
   "cell_type": "code",
   "execution_count": 24,
   "metadata": {},
   "outputs": [
    {
     "data": {
      "text/html": [
       "<div>\n",
       "<style scoped>\n",
       "    .dataframe tbody tr th:only-of-type {\n",
       "        vertical-align: middle;\n",
       "    }\n",
       "\n",
       "    .dataframe tbody tr th {\n",
       "        vertical-align: top;\n",
       "    }\n",
       "\n",
       "    .dataframe thead th {\n",
       "        text-align: right;\n",
       "    }\n",
       "</style>\n",
       "<table border=\"1\" class=\"dataframe\">\n",
       "  <thead>\n",
       "    <tr style=\"text-align: right;\">\n",
       "      <th></th>\n",
       "      <th>Date</th>\n",
       "      <th>Close</th>\n",
       "      <th>Adj. Close</th>\n",
       "      <th>P/E (LTM)</th>\n",
       "      <th>EPS - Est High (NTM)</th>\n",
       "      <th>EPS - Est Low (NTM)</th>\n",
       "      <th>Volume</th>\n",
       "      <th>SI (%)</th>\n",
       "      <th>Vol</th>\n",
       "      <th># Buys</th>\n",
       "      <th>...</th>\n",
       "      <th>day_6</th>\n",
       "      <th>day_7</th>\n",
       "      <th>day_8</th>\n",
       "      <th>day_9</th>\n",
       "      <th>day_10</th>\n",
       "      <th>day_11</th>\n",
       "      <th>day_12</th>\n",
       "      <th>day_13</th>\n",
       "      <th>day_14</th>\n",
       "      <th>day_15</th>\n",
       "    </tr>\n",
       "  </thead>\n",
       "  <tbody>\n",
       "    <tr>\n",
       "      <th>0</th>\n",
       "      <td>1/24/2003</td>\n",
       "      <td>22.11</td>\n",
       "      <td>495.375000</td>\n",
       "      <td>0.35</td>\n",
       "      <td>0.30</td>\n",
       "      <td>21761600.0</td>\n",
       "      <td>11.003475</td>\n",
       "      <td>0.537602</td>\n",
       "      <td>3.0</td>\n",
       "      <td>1.0</td>\n",
       "      <td>...</td>\n",
       "      <td>1.0</td>\n",
       "      <td>1.0</td>\n",
       "      <td>1.0</td>\n",
       "      <td>1.0</td>\n",
       "      <td>0.0</td>\n",
       "      <td>0.0</td>\n",
       "      <td>0.0</td>\n",
       "      <td>0.0</td>\n",
       "      <td>0.0</td>\n",
       "      <td>0.0</td>\n",
       "    </tr>\n",
       "    <tr>\n",
       "      <th>1</th>\n",
       "      <td>1/27/2003</td>\n",
       "      <td>21.78</td>\n",
       "      <td>495.375000</td>\n",
       "      <td>0.35</td>\n",
       "      <td>0.30</td>\n",
       "      <td>8225360.0</td>\n",
       "      <td>11.003475</td>\n",
       "      <td>0.537138</td>\n",
       "      <td>3.0</td>\n",
       "      <td>1.0</td>\n",
       "      <td>...</td>\n",
       "      <td>2.0</td>\n",
       "      <td>2.0</td>\n",
       "      <td>2.0</td>\n",
       "      <td>0.0</td>\n",
       "      <td>0.0</td>\n",
       "      <td>0.0</td>\n",
       "      <td>0.0</td>\n",
       "      <td>0.0</td>\n",
       "      <td>0.0</td>\n",
       "      <td>0.0</td>\n",
       "    </tr>\n",
       "    <tr>\n",
       "      <th>2</th>\n",
       "      <td>1/28/2003</td>\n",
       "      <td>21.62</td>\n",
       "      <td>495.375000</td>\n",
       "      <td>0.35</td>\n",
       "      <td>0.30</td>\n",
       "      <td>7990330.0</td>\n",
       "      <td>11.003475</td>\n",
       "      <td>0.464811</td>\n",
       "      <td>3.0</td>\n",
       "      <td>1.0</td>\n",
       "      <td>...</td>\n",
       "      <td>2.0</td>\n",
       "      <td>2.0</td>\n",
       "      <td>1.0</td>\n",
       "      <td>0.0</td>\n",
       "      <td>0.0</td>\n",
       "      <td>0.0</td>\n",
       "      <td>0.0</td>\n",
       "      <td>0.0</td>\n",
       "      <td>0.0</td>\n",
       "      <td>0.0</td>\n",
       "    </tr>\n",
       "    <tr>\n",
       "      <th>3</th>\n",
       "      <td>1/29/2003</td>\n",
       "      <td>22.08</td>\n",
       "      <td>495.375000</td>\n",
       "      <td>0.35</td>\n",
       "      <td>0.30</td>\n",
       "      <td>7129810.0</td>\n",
       "      <td>11.003475</td>\n",
       "      <td>0.375360</td>\n",
       "      <td>3.0</td>\n",
       "      <td>1.0</td>\n",
       "      <td>...</td>\n",
       "      <td>1.0</td>\n",
       "      <td>0.0</td>\n",
       "      <td>0.0</td>\n",
       "      <td>0.0</td>\n",
       "      <td>0.0</td>\n",
       "      <td>0.0</td>\n",
       "      <td>0.0</td>\n",
       "      <td>0.0</td>\n",
       "      <td>0.0</td>\n",
       "      <td>0.0</td>\n",
       "    </tr>\n",
       "    <tr>\n",
       "      <th>4</th>\n",
       "      <td>1/30/2003</td>\n",
       "      <td>21.82</td>\n",
       "      <td>495.375000</td>\n",
       "      <td>0.35</td>\n",
       "      <td>0.30</td>\n",
       "      <td>5992910.0</td>\n",
       "      <td>11.003475</td>\n",
       "      <td>0.377982</td>\n",
       "      <td>3.0</td>\n",
       "      <td>1.0</td>\n",
       "      <td>...</td>\n",
       "      <td>0.0</td>\n",
       "      <td>0.0</td>\n",
       "      <td>0.0</td>\n",
       "      <td>0.0</td>\n",
       "      <td>0.0</td>\n",
       "      <td>0.0</td>\n",
       "      <td>0.0</td>\n",
       "      <td>0.0</td>\n",
       "      <td>0.0</td>\n",
       "      <td>1.0</td>\n",
       "    </tr>\n",
       "    <tr>\n",
       "      <th>...</th>\n",
       "      <td>...</td>\n",
       "      <td>...</td>\n",
       "      <td>...</td>\n",
       "      <td>...</td>\n",
       "      <td>...</td>\n",
       "      <td>...</td>\n",
       "      <td>...</td>\n",
       "      <td>...</td>\n",
       "      <td>...</td>\n",
       "      <td>...</td>\n",
       "      <td>...</td>\n",
       "      <td>...</td>\n",
       "      <td>...</td>\n",
       "      <td>...</td>\n",
       "      <td>...</td>\n",
       "      <td>...</td>\n",
       "      <td>...</td>\n",
       "      <td>...</td>\n",
       "      <td>...</td>\n",
       "      <td>...</td>\n",
       "      <td>...</td>\n",
       "    </tr>\n",
       "    <tr>\n",
       "      <th>4239</th>\n",
       "      <td>11/25/2019</td>\n",
       "      <td>1773.84</td>\n",
       "      <td>78.601093</td>\n",
       "      <td>30.49</td>\n",
       "      <td>13.22</td>\n",
       "      <td>3489467.0</td>\n",
       "      <td>0.693206</td>\n",
       "      <td>0.120657</td>\n",
       "      <td>35.0</td>\n",
       "      <td>0.0</td>\n",
       "      <td>...</td>\n",
       "      <td>0.0</td>\n",
       "      <td>0.0</td>\n",
       "      <td>0.0</td>\n",
       "      <td>0.0</td>\n",
       "      <td>0.0</td>\n",
       "      <td>1.0</td>\n",
       "      <td>1.0</td>\n",
       "      <td>2.0</td>\n",
       "      <td>1.0</td>\n",
       "      <td>1.0</td>\n",
       "    </tr>\n",
       "    <tr>\n",
       "      <th>4240</th>\n",
       "      <td>11/26/2019</td>\n",
       "      <td>1796.94</td>\n",
       "      <td>79.624684</td>\n",
       "      <td>30.49</td>\n",
       "      <td>13.22</td>\n",
       "      <td>3190428.0</td>\n",
       "      <td>0.768037</td>\n",
       "      <td>0.124999</td>\n",
       "      <td>35.0</td>\n",
       "      <td>0.0</td>\n",
       "      <td>...</td>\n",
       "      <td>0.0</td>\n",
       "      <td>0.0</td>\n",
       "      <td>0.0</td>\n",
       "      <td>0.0</td>\n",
       "      <td>0.0</td>\n",
       "      <td>1.0</td>\n",
       "      <td>1.0</td>\n",
       "      <td>2.0</td>\n",
       "      <td>1.0</td>\n",
       "      <td>1.0</td>\n",
       "    </tr>\n",
       "    <tr>\n",
       "      <th>4241</th>\n",
       "      <td>11/27/2019</td>\n",
       "      <td>1818.51</td>\n",
       "      <td>80.580478</td>\n",
       "      <td>30.49</td>\n",
       "      <td>13.22</td>\n",
       "      <td>3035846.0</td>\n",
       "      <td>0.768037</td>\n",
       "      <td>0.126805</td>\n",
       "      <td>35.0</td>\n",
       "      <td>0.0</td>\n",
       "      <td>...</td>\n",
       "      <td>0.0</td>\n",
       "      <td>0.0</td>\n",
       "      <td>0.0</td>\n",
       "      <td>0.0</td>\n",
       "      <td>0.0</td>\n",
       "      <td>1.0</td>\n",
       "      <td>1.0</td>\n",
       "      <td>2.0</td>\n",
       "      <td>1.0</td>\n",
       "      <td>1.0</td>\n",
       "    </tr>\n",
       "    <tr>\n",
       "      <th>4242</th>\n",
       "      <td>11/29/2019</td>\n",
       "      <td>1800.80</td>\n",
       "      <td>79.795725</td>\n",
       "      <td>30.49</td>\n",
       "      <td>13.22</td>\n",
       "      <td>1923440.0</td>\n",
       "      <td>0.768037</td>\n",
       "      <td>0.128798</td>\n",
       "      <td>35.0</td>\n",
       "      <td>0.0</td>\n",
       "      <td>...</td>\n",
       "      <td>0.0</td>\n",
       "      <td>0.0</td>\n",
       "      <td>0.0</td>\n",
       "      <td>0.0</td>\n",
       "      <td>0.0</td>\n",
       "      <td>1.0</td>\n",
       "      <td>1.0</td>\n",
       "      <td>2.0</td>\n",
       "      <td>1.0</td>\n",
       "      <td>1.0</td>\n",
       "    </tr>\n",
       "    <tr>\n",
       "      <th>4243</th>\n",
       "      <td>12/2/2019</td>\n",
       "      <td>1781.60</td>\n",
       "      <td>78.944949</td>\n",
       "      <td>30.49</td>\n",
       "      <td>13.22</td>\n",
       "      <td>3931750.0</td>\n",
       "      <td>0.768037</td>\n",
       "      <td>0.134421</td>\n",
       "      <td>35.0</td>\n",
       "      <td>0.0</td>\n",
       "      <td>...</td>\n",
       "      <td>0.0</td>\n",
       "      <td>0.0</td>\n",
       "      <td>0.0</td>\n",
       "      <td>0.0</td>\n",
       "      <td>0.0</td>\n",
       "      <td>1.0</td>\n",
       "      <td>1.0</td>\n",
       "      <td>2.0</td>\n",
       "      <td>1.0</td>\n",
       "      <td>1.0</td>\n",
       "    </tr>\n",
       "  </tbody>\n",
       "</table>\n",
       "<p>4244 rows × 38 columns</p>\n",
       "</div>"
      ],
      "text/plain": [
       "            Date    Close  Adj. Close  P/E (LTM)  EPS - Est High (NTM)  \\\n",
       "0      1/24/2003    22.11  495.375000       0.35                  0.30   \n",
       "1      1/27/2003    21.78  495.375000       0.35                  0.30   \n",
       "2      1/28/2003    21.62  495.375000       0.35                  0.30   \n",
       "3      1/29/2003    22.08  495.375000       0.35                  0.30   \n",
       "4      1/30/2003    21.82  495.375000       0.35                  0.30   \n",
       "...          ...      ...         ...        ...                   ...   \n",
       "4239  11/25/2019  1773.84   78.601093      30.49                 13.22   \n",
       "4240  11/26/2019  1796.94   79.624684      30.49                 13.22   \n",
       "4241  11/27/2019  1818.51   80.580478      30.49                 13.22   \n",
       "4242  11/29/2019  1800.80   79.795725      30.49                 13.22   \n",
       "4243   12/2/2019  1781.60   78.944949      30.49                 13.22   \n",
       "\n",
       "      EPS - Est Low (NTM)     Volume    SI (%)   Vol  # Buys  ...  day_6  \\\n",
       "0              21761600.0  11.003475  0.537602   3.0     1.0  ...    1.0   \n",
       "1               8225360.0  11.003475  0.537138   3.0     1.0  ...    2.0   \n",
       "2               7990330.0  11.003475  0.464811   3.0     1.0  ...    2.0   \n",
       "3               7129810.0  11.003475  0.375360   3.0     1.0  ...    1.0   \n",
       "4               5992910.0  11.003475  0.377982   3.0     1.0  ...    0.0   \n",
       "...                   ...        ...       ...   ...     ...  ...    ...   \n",
       "4239            3489467.0   0.693206  0.120657  35.0     0.0  ...    0.0   \n",
       "4240            3190428.0   0.768037  0.124999  35.0     0.0  ...    0.0   \n",
       "4241            3035846.0   0.768037  0.126805  35.0     0.0  ...    0.0   \n",
       "4242            1923440.0   0.768037  0.128798  35.0     0.0  ...    0.0   \n",
       "4243            3931750.0   0.768037  0.134421  35.0     0.0  ...    0.0   \n",
       "\n",
       "      day_7  day_8  day_9  day_10  day_11  day_12  day_13  day_14  day_15  \n",
       "0       1.0    1.0    1.0     0.0     0.0     0.0     0.0     0.0     0.0  \n",
       "1       2.0    2.0    0.0     0.0     0.0     0.0     0.0     0.0     0.0  \n",
       "2       2.0    1.0    0.0     0.0     0.0     0.0     0.0     0.0     0.0  \n",
       "3       0.0    0.0    0.0     0.0     0.0     0.0     0.0     0.0     0.0  \n",
       "4       0.0    0.0    0.0     0.0     0.0     0.0     0.0     0.0     1.0  \n",
       "...     ...    ...    ...     ...     ...     ...     ...     ...     ...  \n",
       "4239    0.0    0.0    0.0     0.0     1.0     1.0     2.0     1.0     1.0  \n",
       "4240    0.0    0.0    0.0     0.0     1.0     1.0     2.0     1.0     1.0  \n",
       "4241    0.0    0.0    0.0     0.0     1.0     1.0     2.0     1.0     1.0  \n",
       "4242    0.0    0.0    0.0     0.0     1.0     1.0     2.0     1.0     1.0  \n",
       "4243    0.0    0.0    0.0     0.0     1.0     1.0     2.0     1.0     1.0  \n",
       "\n",
       "[4244 rows x 38 columns]"
      ]
     },
     "execution_count": 24,
     "metadata": {},
     "output_type": "execute_result"
    }
   ],
   "source": [
    "df_amzn = pd.read_csv(\"amzn.csv\")\n",
    "#amzn_medium = df_amzn.iloc[:2000,:16]\n",
    "df_amzn\n"
   ]
  },
  {
   "cell_type": "code",
   "execution_count": 18,
   "metadata": {},
   "outputs": [
    {
     "data": {
      "text/plain": [
       "[Text(0, 0, '0'),\n",
       " Text(200, 0, '200'),\n",
       " Text(400, 0, '400'),\n",
       " Text(600, 0, '600'),\n",
       " Text(800, 0, '800'),\n",
       " Text(1000, 0, '1000'),\n",
       " Text(1200, 0, '1200'),\n",
       " Text(1400, 0, '1400'),\n",
       " Text(1600, 0, '1600'),\n",
       " Text(1800, 0, '1800'),\n",
       " Text(2000, 0, '2000'),\n",
       " Text(2200, 0, '2200'),\n",
       " Text(2400, 0, '2400'),\n",
       " Text(2600, 0, '2600'),\n",
       " Text(2800, 0, '2800'),\n",
       " Text(3000, 0, '3000'),\n",
       " Text(3200, 0, '3200'),\n",
       " Text(3400, 0, '3400'),\n",
       " Text(3600, 0, '3600'),\n",
       " Text(3800, 0, '3800'),\n",
       " Text(4000, 0, '4000'),\n",
       " Text(4200, 0, '4200')]"
      ]
     },
     "execution_count": 18,
     "metadata": {},
     "output_type": "execute_result"
    },
    {
     "data": {
      "image/png": "[encoded data removed]",
      "text/plain": [
       "<Figure size 432x288 with 1 Axes>"
      ]
     },
     "metadata": {
      "needs_background": "light"
     },
     "output_type": "display_data"
    }
   ],
   "source": [
    "amzn = sns.lineplot(data=df_amzn, x=\"Date\", y=\"Close\")\n",
    "amzn.set_xticks(range(0,4400,200))\n",
    "amzn.set_xticklabels(list(range(0,4400,200)))\n"
   ]
  },
  {
   "cell_type": "code",
   "execution_count": 12,
   "metadata": {},
   "outputs": [],
   "source": [
    "df_googl = pd.read_csv(\"googl.csv\")\n",
    "# googl_medium = df_amzn.iloc[:2000,:16]\n"
   ]
  },
  {
   "cell_type": "code",
   "execution_count": 13,
   "metadata": {},
   "outputs": [
    {
     "data": {
      "text/plain": [
       "<AxesSubplot:xlabel='Date', ylabel='Close'>"
      ]
     },
     "execution_count": 13,
     "metadata": {},
     "output_type": "execute_result"
    },
    {
     "data": {
      "image/png": "[encoded data removed]",
      "text/plain": [
       "<Figure size 432x288 with 1 Axes>"
      ]
     },
     "metadata": {
      "needs_background": "light"
     },
     "output_type": "display_data"
    }
   ],
   "source": [
    "sns.lineplot(data=df_googl, x=\"Date\", y=\"Close\")"
   ]
  },
  {
   "cell_type": "code",
   "execution_count": 14,
   "metadata": {},
   "outputs": [],
   "source": [
    "df_jpm = pd.read_csv(\"jpm.csv\")\n",
    "# googl_medium = df_amzn.iloc[:2000,:16]\n"
   ]
  },
  {
   "cell_type": "code",
   "execution_count": 15,
   "metadata": {},
   "outputs": [
    {
     "data": {
      "text/plain": [
       "<AxesSubplot:xlabel='Date', ylabel='Close'>"
      ]
     },
     "execution_count": 15,
     "metadata": {},
     "output_type": "execute_result"
    },
    {
     "data": {
      "image/png": "[encoded data removed]",
      "text/plain": [
       "<Figure size 432x288 with 1 Axes>"
      ]
     },
     "metadata": {
      "needs_background": "light"
     },
     "output_type": "display_data"
    }
   ],
   "source": [
    "sns.lineplot(data=df_jpm, x=\"Date\", y=\"Close\")"
   ]
  },
  {
   "cell_type": "code",
   "execution_count": 7,
   "metadata": {},
   "outputs": [],
   "source": [
    "df_fb = pd.read_csv(\"fb.csv\")\n",
    "# fb_medium = df_amzn.iloc[:2000,:16]\n"
   ]
  },
  {
   "cell_type": "code",
   "execution_count": 8,
   "metadata": {},
   "outputs": [
    {
     "data": {
      "text/plain": [
       "[Text(0, 0, '0'),\n",
       " Text(200, 0, '200'),\n",
       " Text(400, 0, '400'),\n",
       " Text(600, 0, '600'),\n",
       " Text(800, 0, '800'),\n",
       " Text(1000, 0, '1000'),\n",
       " Text(1200, 0, '1200'),\n",
       " Text(1400, 0, '1400'),\n",
       " Text(1600, 0, '1600'),\n",
       " Text(1800, 0, '1800')]"
      ]
     },
     "execution_count": 8,
     "metadata": {},
     "output_type": "execute_result"
    },
    {
     "data": {
      "image/png": "[encoded data removed]",
      "text/plain": [
       "<Figure size 432x288 with 1 Axes>"
      ]
     },
     "metadata": {
      "needs_background": "light"
     },
     "output_type": "display_data"
    }
   ],
   "source": [
    "fb = sns.lineplot(data=df_fb, x=\"Date\", y=\"Close\")\n",
    "fb.set_xticks(range(0,2000,200))\n",
    "fb.set_xticklabels(list(range(0,2000,200)))\n"
   ]
  },
  {
   "cell_type": "code",
   "execution_count": 28,
   "metadata": {},
   "outputs": [
    {
     "data": {
      "text/plain": [
       "[Text(0, 0, '0'),\n",
       " Text(200, 0, '200'),\n",
       " Text(400, 0, '400'),\n",
       " Text(600, 0, '600'),\n",
       " Text(800, 0, '800'),\n",
       " Text(1000, 0, '1000'),\n",
       " Text(1200, 0, '1200'),\n",
       " Text(1400, 0, '1400'),\n",
       " Text(1600, 0, '1600'),\n",
       " Text(1800, 0, '1800')]"
      ]
     },
     "execution_count": 28,
     "metadata": {},
     "output_type": "execute_result"
    },
    {
     "data": {
      "image/png": "[encoded data removed]",
      "text/plain": [
       "<Figure size 432x288 with 1 Axes>"
      ]
     },
     "metadata": {
      "needs_background": "light"
     },
     "output_type": "display_data"
    }
   ],
   "source": [
    "df_amzn[\"Close\"] = df_amzn[\"Close\"] - df_amzn[\"Close\"].shift(1)\n",
    "amzn = sns.lineplot(data=df_amzn, x=\"Date\", y=\"Close\")\n",
    "amzn.set_xticks(range(0,2000,200))\n",
    "amzn.set_xticklabels(list(range(0,2000,200)))"
   ]
  },
  {
   "cell_type": "code",
   "execution_count": 45,
   "metadata": {},
   "outputs": [
    {
     "data": {
      "text/plain": [
       "[Text(0, 0, '0'),\n",
       " Text(200, 0, '200'),\n",
       " Text(400, 0, '400'),\n",
       " Text(600, 0, '600'),\n",
       " Text(800, 0, '800'),\n",
       " Text(1000, 0, '1000'),\n",
       " Text(1200, 0, '1200'),\n",
       " Text(1400, 0, '1400'),\n",
       " Text(1600, 0, '1600'),\n",
       " Text(1800, 0, '1800')]"
      ]
     },
     "execution_count": 45,
     "metadata": {},
     "output_type": "execute_result"
    },
    {
     "data": {
      "image/png": "[encoded data removed]",
      "text/plain": [
       "<Figure size 432x288 with 1 Axes>"
      ]
     },
     "metadata": {
      "needs_background": "light"
     },
     "output_type": "display_data"
    }
   ],
   "source": [
    "df_appl = pd.read_csv(\"df_aaple.csv\")\n",
    "amzn = sns.lineplot(data=df_appl, x=\"Date\", y=\"Close\")\n",
    "amzn.set_xticks(range(0,2000,200))\n",
    "amzn.set_xticklabels(list(range(0,2000,200)))"
   ]
  },
  {
   "cell_type": "code",
   "execution_count": 43,
   "metadata": {},
   "outputs": [],
   "source": [
    "import pmdarima as pm\n",
    "from pmdarima.model_selection import train_test_split\n",
    "import numpy as np\n",
    "import matplotlib.pyplot as plt\n",
    "\n",
    "# Load/split your data\n",
    "y = df_appl[\"Close\"]\n",
    "train, test = train_test_split(y, train_size=0.6)\n",
    "\n",
    "# Fit your model\n",
    "model = pm.auto_arima(train, seasonal=False)"
   ]
  },
  {
   "cell_type": "code",
   "execution_count": 46,
   "metadata": {},
   "outputs": [
    {
     "data": {
      "text/html": [
       "<table class=\"simpletable\">\n",
       "<caption>SARIMAX Results</caption>\n",
       "<tr>\n",
       "  <th>Dep. Variable:</th>           <td>y</td>        <th>  No. Observations:  </th>   <td>2552</td>   \n",
       "</tr>\n",
       "<tr>\n",
       "  <th>Model:</th>           <td>SARIMAX(2, 1, 2)</td> <th>  Log Likelihood     </th> <td>-1495.438</td>\n",
       "</tr>\n",
       "<tr>\n",
       "  <th>Date:</th>            <td>Thu, 09 Jun 2022</td> <th>  AIC                </th> <td>3000.876</td> \n",
       "</tr>\n",
       "<tr>\n",
       "  <th>Time:</th>                <td>16:27:08</td>     <th>  BIC                </th> <td>3030.098</td> \n",
       "</tr>\n",
       "<tr>\n",
       "  <th>Sample:</th>                  <td>0</td>        <th>  HQIC               </th> <td>3011.474</td> \n",
       "</tr>\n",
       "<tr>\n",
       "  <th></th>                      <td> - 2552</td>     <th>                     </th>     <td> </td>    \n",
       "</tr>\n",
       "<tr>\n",
       "  <th>Covariance Type:</th>        <td>opg</td>       <th>                     </th>     <td> </td>    \n",
       "</tr>\n",
       "</table>\n",
       "<table class=\"simpletable\">\n",
       "<tr>\n",
       "     <td></td>       <th>coef</th>     <th>std err</th>      <th>z</th>      <th>P>|z|</th>  <th>[0.025</th>    <th>0.975]</th>  \n",
       "</tr>\n",
       "<tr>\n",
       "  <th>ar.L1</th>  <td>   -0.7981</td> <td>    0.120</td> <td>   -6.644</td> <td> 0.000</td> <td>   -1.034</td> <td>   -0.563</td>\n",
       "</tr>\n",
       "<tr>\n",
       "  <th>ar.L2</th>  <td>   -0.5743</td> <td>    0.110</td> <td>   -5.230</td> <td> 0.000</td> <td>   -0.789</td> <td>   -0.359</td>\n",
       "</tr>\n",
       "<tr>\n",
       "  <th>ma.L1</th>  <td>    0.7361</td> <td>    0.126</td> <td>    5.831</td> <td> 0.000</td> <td>    0.489</td> <td>    0.983</td>\n",
       "</tr>\n",
       "<tr>\n",
       "  <th>ma.L2</th>  <td>    0.5098</td> <td>    0.119</td> <td>    4.268</td> <td> 0.000</td> <td>    0.276</td> <td>    0.744</td>\n",
       "</tr>\n",
       "<tr>\n",
       "  <th>sigma2</th> <td>    0.1891</td> <td>    0.003</td> <td>   74.270</td> <td> 0.000</td> <td>    0.184</td> <td>    0.194</td>\n",
       "</tr>\n",
       "</table>\n",
       "<table class=\"simpletable\">\n",
       "<tr>\n",
       "  <th>Ljung-Box (L1) (Q):</th>     <td>0.02</td> <th>  Jarque-Bera (JB):  </th> <td>5815.12</td>\n",
       "</tr>\n",
       "<tr>\n",
       "  <th>Prob(Q):</th>                <td>0.90</td> <th>  Prob(JB):          </th>  <td>0.00</td>  \n",
       "</tr>\n",
       "<tr>\n",
       "  <th>Heteroskedasticity (H):</th> <td>1.07</td> <th>  Skew:              </th>  <td>-0.04</td> \n",
       "</tr>\n",
       "<tr>\n",
       "  <th>Prob(H) (two-sided):</th>    <td>0.34</td> <th>  Kurtosis:          </th>  <td>10.40</td> \n",
       "</tr>\n",
       "</table><br/><br/>Warnings:<br/>[1] Covariance matrix calculated using the outer product of gradients (complex-step)."
      ],
      "text/plain": [
       "<class 'statsmodels.iolib.summary.Summary'>\n",
       "\"\"\"\n",
       "                               SARIMAX Results                                \n",
       "==============================================================================\n",
       "Dep. Variable:                      y   No. Observations:                 2552\n",
       "Model:               SARIMAX(2, 1, 2)   Log Likelihood               -1495.438\n",
       "Date:                Thu, 09 Jun 2022   AIC                           3000.876\n",
       "Time:                        16:27:08   BIC                           3030.098\n",
       "Sample:                             0   HQIC                          3011.474\n",
       "                               - 2552                                         \n",
       "Covariance Type:                  opg                                         \n",
       "==============================================================================\n",
       "                 coef    std err          z      P>|z|      [0.025      0.975]\n",
       "------------------------------------------------------------------------------\n",
       "ar.L1         -0.7981      0.120     -6.644      0.000      -1.034      -0.563\n",
       "ar.L2         -0.5743      0.110     -5.230      0.000      -0.789      -0.359\n",
       "ma.L1          0.7361      0.126      5.831      0.000       0.489       0.983\n",
       "ma.L2          0.5098      0.119      4.268      0.000       0.276       0.744\n",
       "sigma2         0.1891      0.003     74.270      0.000       0.184       0.194\n",
       "===================================================================================\n",
       "Ljung-Box (L1) (Q):                   0.02   Jarque-Bera (JB):              5815.12\n",
       "Prob(Q):                              0.90   Prob(JB):                         0.00\n",
       "Heteroskedasticity (H):               1.07   Skew:                            -0.04\n",
       "Prob(H) (two-sided):                  0.34   Kurtosis:                        10.40\n",
       "===================================================================================\n",
       "\n",
       "Warnings:\n",
       "[1] Covariance matrix calculated using the outer product of gradients (complex-step).\n",
       "\"\"\""
      ]
     },
     "execution_count": 46,
     "metadata": {},
     "output_type": "execute_result"
    }
   ],
   "source": [
    "model.summary()"
   ]
  },
  {
   "cell_type": "code",
   "execution_count": 33,
   "metadata": {},
   "outputs": [
    {
     "data": {
      "text/plain": [
       "[Text(0, 0, '0'),\n",
       " Text(200, 0, '200'),\n",
       " Text(400, 0, '400'),\n",
       " Text(600, 0, '600'),\n",
       " Text(800, 0, '800'),\n",
       " Text(1000, 0, '1000'),\n",
       " Text(1200, 0, '1200'),\n",
       " Text(1400, 0, '1400'),\n",
       " Text(1600, 0, '1600'),\n",
       " Text(1800, 0, '1800')]"
      ]
     },
     "execution_count": 33,
     "metadata": {},
     "output_type": "execute_result"
    },
    {
     "data": {
      "image/png": "[encoded data removed]",
      "text/plain": [
       "<Figure size 432x288 with 1 Axes>"
      ]
     },
     "metadata": {
      "needs_background": "light"
     },
     "output_type": "display_data"
    }
   ],
   "source": [
    "\n",
    "df_appl[\"Close\"] = df_appl[\"Close\"] - df_appl[\"Close\"].shift(1)\n",
    "amzn = sns.lineplot(data=df_appl, x=\"Date\", y=\"Close\")\n",
    "amzn.set_xticks(range(0,2000,200))\n",
    "amzn.set_xticklabels(list(range(0,2000,200)))"
   ]
  },
  {
   "cell_type": "code",
   "execution_count": 4,
   "metadata": {},
   "outputs": [
    {
     "name": "stdout",
     "output_type": "stream",
     "text": [
      "2\n"
     ]
    }
   ],
   "source": [
    "ab = 1\n",
    "abb = 1\n",
    "if abb == 1:\n",
    "    ab += 1\n",
    "print(ab)"
   ]
  }
 ],
 "metadata": {
  "interpreter": {
   "hash": "ecda2226e1d4421bab328a480e856f7e2efe4f4ade8deb7f822fd3214f8320da"
  },
  "kernelspec": {
   "display_name": "Python 3.10.4 ('test1')",
   "language": "python",
   "name": "python3"
  },
  "language_info": {
   "codemirror_mode": {
    "name": "ipython",
    "version": 3
   },
   "file_extension": ".py",
   "mimetype": "text/x-python",
   "name": "python",
   "nbconvert_exporter": "python",
   "pygments_lexer": "ipython3",
   "version": "3.10.4"
  },
  "orig_nbformat": 4
 },
 "nbformat": 4,
 "nbformat_minor": 2
}
