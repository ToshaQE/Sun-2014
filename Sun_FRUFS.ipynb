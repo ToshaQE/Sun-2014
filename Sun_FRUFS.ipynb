{
 "cells": [
  {
   "cell_type": "code",
   "execution_count": 2,
   "metadata": {},
   "outputs": [],
   "source": [
    "import logging\n",
    "import pandas as pd\n",
    "import numpy as np\n",
    "import matplotlib.pyplot as plt\n",
    "from statsmodels.tsa.stattools import adfuller\n",
    "from scipy import stats\n",
    "from statsmodels.tsa.api import VAR\n",
    "from statsmodels.tools.eval_measures import rmse, aic\n",
    "from statsmodels.tsa.ar_model import AutoReg\n",
    "from statsmodels.tsa.stattools import grangercausalitytests\n",
    "import pickle\n",
    "from sklearn.model_selection import train_test_split\n",
    "import re\n",
    "import logging\n",
    "\n",
    "\n"
   ]
  },
  {
   "cell_type": "code",
   "execution_count": 4,
   "metadata": {},
   "outputs": [
    {
     "data": {
      "text/html": [
       "<div>\n",
       "<style scoped>\n",
       "    .dataframe tbody tr th:only-of-type {\n",
       "        vertical-align: middle;\n",
       "    }\n",
       "\n",
       "    .dataframe tbody tr th {\n",
       "        vertical-align: top;\n",
       "    }\n",
       "\n",
       "    .dataframe thead th {\n",
       "        text-align: right;\n",
       "    }\n",
       "</style>\n",
       "<table border=\"1\" class=\"dataframe\">\n",
       "  <thead>\n",
       "    <tr style=\"text-align: right;\">\n",
       "      <th></th>\n",
       "      <th>Adj. Close.L1</th>\n",
       "      <th>P/E (LTM).L1</th>\n",
       "      <th>Close.L1</th>\n",
       "      <th>Close.L2</th>\n",
       "      <th>Close.L3</th>\n",
       "    </tr>\n",
       "  </thead>\n",
       "  <tbody>\n",
       "    <tr>\n",
       "      <th>0</th>\n",
       "      <td>-0.264607</td>\n",
       "      <td>-0.567380</td>\n",
       "      <td>23.290</td>\n",
       "      <td>23.71</td>\n",
       "      <td>23.48</td>\n",
       "    </tr>\n",
       "    <tr>\n",
       "      <th>1</th>\n",
       "      <td>0.252007</td>\n",
       "      <td>0.540362</td>\n",
       "      <td>23.690</td>\n",
       "      <td>23.29</td>\n",
       "      <td>23.71</td>\n",
       "    </tr>\n",
       "    <tr>\n",
       "      <th>2</th>\n",
       "      <td>-0.296108</td>\n",
       "      <td>-0.634925</td>\n",
       "      <td>23.220</td>\n",
       "      <td>23.69</td>\n",
       "      <td>23.29</td>\n",
       "    </tr>\n",
       "    <tr>\n",
       "      <th>3</th>\n",
       "      <td>0.000000</td>\n",
       "      <td>0.000000</td>\n",
       "      <td>23.220</td>\n",
       "      <td>23.22</td>\n",
       "      <td>23.69</td>\n",
       "    </tr>\n",
       "    <tr>\n",
       "      <th>4</th>\n",
       "      <td>0.173255</td>\n",
       "      <td>0.371499</td>\n",
       "      <td>23.495</td>\n",
       "      <td>23.22</td>\n",
       "      <td>23.22</td>\n",
       "    </tr>\n",
       "    <tr>\n",
       "      <th>...</th>\n",
       "      <td>...</td>\n",
       "      <td>...</td>\n",
       "      <td>...</td>\n",
       "      <td>...</td>\n",
       "      <td>...</td>\n",
       "    </tr>\n",
       "    <tr>\n",
       "      <th>1574</th>\n",
       "      <td>-0.075828</td>\n",
       "      <td>-0.057438</td>\n",
       "      <td>19.320</td>\n",
       "      <td>19.42</td>\n",
       "      <td>19.32</td>\n",
       "    </tr>\n",
       "    <tr>\n",
       "      <th>1575</th>\n",
       "      <td>0.432221</td>\n",
       "      <td>0.327395</td>\n",
       "      <td>19.890</td>\n",
       "      <td>19.32</td>\n",
       "      <td>19.42</td>\n",
       "    </tr>\n",
       "    <tr>\n",
       "      <th>1576</th>\n",
       "      <td>-0.106159</td>\n",
       "      <td>-0.080413</td>\n",
       "      <td>19.750</td>\n",
       "      <td>19.89</td>\n",
       "      <td>19.32</td>\n",
       "    </tr>\n",
       "    <tr>\n",
       "      <th>1577</th>\n",
       "      <td>0.235067</td>\n",
       "      <td>0.178057</td>\n",
       "      <td>20.060</td>\n",
       "      <td>19.75</td>\n",
       "      <td>19.89</td>\n",
       "    </tr>\n",
       "    <tr>\n",
       "      <th>1578</th>\n",
       "      <td>0.121325</td>\n",
       "      <td>0.091900</td>\n",
       "      <td>20.220</td>\n",
       "      <td>20.06</td>\n",
       "      <td>19.75</td>\n",
       "    </tr>\n",
       "  </tbody>\n",
       "</table>\n",
       "<p>1579 rows × 5 columns</p>\n",
       "</div>"
      ],
      "text/plain": [
       "      Adj. Close.L1  P/E (LTM).L1  Close.L1  Close.L2  Close.L3\n",
       "0         -0.264607     -0.567380    23.290     23.71     23.48\n",
       "1          0.252007      0.540362    23.690     23.29     23.71\n",
       "2         -0.296108     -0.634925    23.220     23.69     23.29\n",
       "3          0.000000      0.000000    23.220     23.22     23.69\n",
       "4          0.173255      0.371499    23.495     23.22     23.22\n",
       "...             ...           ...       ...       ...       ...\n",
       "1574      -0.075828     -0.057438    19.320     19.42     19.32\n",
       "1575       0.432221      0.327395    19.890     19.32     19.42\n",
       "1576      -0.106159     -0.080413    19.750     19.89     19.32\n",
       "1577       0.235067      0.178057    20.060     19.75     19.89\n",
       "1578       0.121325      0.091900    20.220     20.06     19.75\n",
       "\n",
       "[1579 rows x 5 columns]"
      ]
     },
     "execution_count": 4,
     "metadata": {},
     "output_type": "execute_result"
    }
   ],
   "source": [
    "sun_train_y = pd.read_csv(\"sun_y_train.csv\")\n",
    "pruned_df = pd.read_csv(\"pruned_df.csv\")\n",
    "pruned_df"
   ]
  },
  {
   "cell_type": "code",
   "execution_count": 49,
   "metadata": {},
   "outputs": [
    {
     "data": {
      "text/plain": [
       "0.3078256768339393"
      ]
     },
     "execution_count": 49,
     "metadata": {},
     "output_type": "execute_result"
    }
   ],
   "source": [
    "frufs_model = AutoReg(sun_train_y, lags=0, exog=pruned_df).fit()\n",
    "MAE_train = np.nanmean(abs(frufs_model.predict() - sun_train_y.squeeze()))\n",
    "MAE_train"
   ]
  },
  {
   "cell_type": "code",
   "execution_count": null,
   "metadata": {},
   "outputs": [],
   "source": [
    "MAE_test = np.nanmean(abs(y_pred_out - y_test))"
   ]
  },
  {
   "cell_type": "code",
   "execution_count": 48,
   "metadata": {},
   "outputs": [
    {
     "data": {
      "text/plain": [
       "0       23.690\n",
       "1       23.220\n",
       "2       23.220\n",
       "3       23.495\n",
       "4       24.150\n",
       "         ...  \n",
       "1574    19.890\n",
       "1575    19.750\n",
       "1576    20.060\n",
       "1577    20.220\n",
       "1578    20.600\n",
       "Name: Close, Length: 1579, dtype: float64"
      ]
     },
     "execution_count": 48,
     "metadata": {},
     "output_type": "execute_result"
    }
   ],
   "source": [
    "sun_train_y.squeeze()"
   ]
  },
  {
   "cell_type": "code",
   "execution_count": 40,
   "metadata": {},
   "outputs": [
    {
     "ename": "AttributeError",
     "evalue": "'DataFrame' object has no attribute 'to_series'",
     "output_type": "error",
     "traceback": [
      "\u001b[0;31m---------------------------------------------------------------------------\u001b[0m",
      "\u001b[0;31mAttributeError\u001b[0m                            Traceback (most recent call last)",
      "\u001b[1;32m/home/apoletaev/VSCodeProjects/Sun-2014/Sun_FRUFS.ipynb Cell 5'\u001b[0m in \u001b[0;36m<cell line: 1>\u001b[0;34m()\u001b[0m\n\u001b[0;32m----> <a href='vscode-notebook-cell:/home/apoletaev/VSCodeProjects/Sun-2014/Sun_FRUFS.ipynb#ch0000006?line=0'>1</a>\u001b[0m sun \u001b[39m=\u001b[39m sun_train_y\u001b[39m.\u001b[39;49mto_series\n",
      "File \u001b[0;32m~/miniconda3/envs/test1/lib/python3.10/site-packages/pandas/core/generic.py:5575\u001b[0m, in \u001b[0;36mNDFrame.__getattr__\u001b[0;34m(self, name)\u001b[0m\n\u001b[1;32m   <a href='file:///home/apoletaev/miniconda3/envs/test1/lib/python3.10/site-packages/pandas/core/generic.py?line=5567'>5568</a>\u001b[0m \u001b[39mif\u001b[39;00m (\n\u001b[1;32m   <a href='file:///home/apoletaev/miniconda3/envs/test1/lib/python3.10/site-packages/pandas/core/generic.py?line=5568'>5569</a>\u001b[0m     name \u001b[39mnot\u001b[39;00m \u001b[39min\u001b[39;00m \u001b[39mself\u001b[39m\u001b[39m.\u001b[39m_internal_names_set\n\u001b[1;32m   <a href='file:///home/apoletaev/miniconda3/envs/test1/lib/python3.10/site-packages/pandas/core/generic.py?line=5569'>5570</a>\u001b[0m     \u001b[39mand\u001b[39;00m name \u001b[39mnot\u001b[39;00m \u001b[39min\u001b[39;00m \u001b[39mself\u001b[39m\u001b[39m.\u001b[39m_metadata\n\u001b[1;32m   <a href='file:///home/apoletaev/miniconda3/envs/test1/lib/python3.10/site-packages/pandas/core/generic.py?line=5570'>5571</a>\u001b[0m     \u001b[39mand\u001b[39;00m name \u001b[39mnot\u001b[39;00m \u001b[39min\u001b[39;00m \u001b[39mself\u001b[39m\u001b[39m.\u001b[39m_accessors\n\u001b[1;32m   <a href='file:///home/apoletaev/miniconda3/envs/test1/lib/python3.10/site-packages/pandas/core/generic.py?line=5571'>5572</a>\u001b[0m     \u001b[39mand\u001b[39;00m \u001b[39mself\u001b[39m\u001b[39m.\u001b[39m_info_axis\u001b[39m.\u001b[39m_can_hold_identifiers_and_holds_name(name)\n\u001b[1;32m   <a href='file:///home/apoletaev/miniconda3/envs/test1/lib/python3.10/site-packages/pandas/core/generic.py?line=5572'>5573</a>\u001b[0m ):\n\u001b[1;32m   <a href='file:///home/apoletaev/miniconda3/envs/test1/lib/python3.10/site-packages/pandas/core/generic.py?line=5573'>5574</a>\u001b[0m     \u001b[39mreturn\u001b[39;00m \u001b[39mself\u001b[39m[name]\n\u001b[0;32m-> <a href='file:///home/apoletaev/miniconda3/envs/test1/lib/python3.10/site-packages/pandas/core/generic.py?line=5574'>5575</a>\u001b[0m \u001b[39mreturn\u001b[39;00m \u001b[39mobject\u001b[39;49m\u001b[39m.\u001b[39;49m\u001b[39m__getattribute__\u001b[39;49m(\u001b[39mself\u001b[39;49m, name)\n",
      "\u001b[0;31mAttributeError\u001b[0m: 'DataFrame' object has no attribute 'to_series'"
     ]
    }
   ],
   "source": [
    "sun = sun_train_y.to_series"
   ]
  },
  {
   "cell_type": "code",
   "execution_count": 38,
   "metadata": {},
   "outputs": [
    {
     "data": {
      "text/plain": [
       "pandas.core.series.Series"
      ]
     },
     "execution_count": 38,
     "metadata": {},
     "output_type": "execute_result"
    }
   ],
   "source": [
    "type(frufs_model.predict()) "
   ]
  },
  {
   "cell_type": "code",
   "execution_count": 13,
   "metadata": {},
   "outputs": [
    {
     "data": {
      "text/plain": [
       "0       23.312595\n",
       "1       23.721380\n",
       "2       23.235124\n",
       "3       23.269519\n",
       "4       23.508125\n",
       "          ...    \n",
       "1574    19.376667\n",
       "1575    19.880770\n",
       "1576    19.781749\n",
       "1577    20.080084\n",
       "1578    20.230196\n",
       "Length: 1579, dtype: float64"
      ]
     },
     "execution_count": 13,
     "metadata": {},
     "output_type": "execute_result"
    }
   ],
   "source": [
    "frufs_model.predict()"
   ]
  },
  {
   "cell_type": "code",
   "execution_count": null,
   "metadata": {},
   "outputs": [],
   "source": [
    "MAE_train = np.nanmean(abs(fin_model.predict() - y_train_m))"
   ]
  }
 ],
 "metadata": {
  "interpreter": {
   "hash": "ecda2226e1d4421bab328a480e856f7e2efe4f4ade8deb7f822fd3214f8320da"
  },
  "kernelspec": {
   "display_name": "Python 3.10.4 ('test1')",
   "language": "python",
   "name": "python3"
  },
  "language_info": {
   "codemirror_mode": {
    "name": "ipython",
    "version": 3
   },
   "file_extension": ".py",
   "mimetype": "text/x-python",
   "name": "python",
   "nbconvert_exporter": "python",
   "pygments_lexer": "ipython3",
   "version": "3.10.4"
  },
  "orig_nbformat": 4
 },
 "nbformat": 4,
 "nbformat_minor": 2
}
