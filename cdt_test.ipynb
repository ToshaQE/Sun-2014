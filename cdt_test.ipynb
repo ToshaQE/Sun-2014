{
 "cells": [
  {
   "cell_type": "code",
   "execution_count": 1,
   "metadata": {},
   "outputs": [
    {
     "name": "stderr",
     "output_type": "stream",
     "text": [
      "/home/apoletaev/miniconda3/envs/test1/lib/python3.10/site-packages/tqdm/auto.py:22: TqdmWarning: IProgress not found. Please update jupyter and ipywidgets. See https://ipywidgets.readthedocs.io/en/stable/user_install.html\n",
      "  from .autonotebook import tqdm as notebook_tqdm\n",
      "Detecting 1 CUDA device(s).\n"
     ]
    }
   ],
   "source": [
    "import pandas as pd\n",
    "import numpy as np\n",
    "import matplotlib.pyplot as plt\n",
    "from statsmodels.tsa.stattools import adfuller\n",
    "from scipy import stats\n",
    "from statsmodels.tsa.api import VAR\n",
    "from statsmodels.tools.eval_measures import rmse, aic\n",
    "from statsmodels.tsa.ar_model import AutoReg\n",
    "from statsmodels.tsa.stattools import grangercausalitytests\n",
    "import pickle\n",
    "\n",
    "import cdt\n",
    "import networkx as nx"
   ]
  },
  {
   "cell_type": "code",
   "execution_count": 4,
   "metadata": {},
   "outputs": [
    {
     "data": {
      "text/html": [
       "<div>\n",
       "<style scoped>\n",
       "    .dataframe tbody tr th:only-of-type {\n",
       "        vertical-align: middle;\n",
       "    }\n",
       "\n",
       "    .dataframe tbody tr th {\n",
       "        vertical-align: top;\n",
       "    }\n",
       "\n",
       "    .dataframe thead th {\n",
       "        text-align: right;\n",
       "    }\n",
       "</style>\n",
       "<table border=\"1\" class=\"dataframe\">\n",
       "  <thead>\n",
       "    <tr style=\"text-align: right;\">\n",
       "      <th></th>\n",
       "      <th>Close</th>\n",
       "      <th>Adj. Close</th>\n",
       "      <th>P/E (LTM)</th>\n",
       "      <th>EPS - Est High (NTM)</th>\n",
       "    </tr>\n",
       "  </thead>\n",
       "  <tbody>\n",
       "    <tr>\n",
       "      <th>0</th>\n",
       "      <td>27.905</td>\n",
       "      <td>17.580627</td>\n",
       "      <td>35.994469</td>\n",
       "      <td>1.0800</td>\n",
       "    </tr>\n",
       "    <tr>\n",
       "      <th>1</th>\n",
       "      <td>27.960</td>\n",
       "      <td>17.615278</td>\n",
       "      <td>36.065413</td>\n",
       "      <td>1.0800</td>\n",
       "    </tr>\n",
       "    <tr>\n",
       "      <th>2</th>\n",
       "      <td>28.195</td>\n",
       "      <td>17.763332</td>\n",
       "      <td>36.368538</td>\n",
       "      <td>1.0800</td>\n",
       "    </tr>\n",
       "    <tr>\n",
       "      <th>3</th>\n",
       "      <td>28.485</td>\n",
       "      <td>17.946037</td>\n",
       "      <td>36.742607</td>\n",
       "      <td>1.0800</td>\n",
       "    </tr>\n",
       "    <tr>\n",
       "      <th>4</th>\n",
       "      <td>28.135</td>\n",
       "      <td>17.725531</td>\n",
       "      <td>36.291144</td>\n",
       "      <td>1.0800</td>\n",
       "    </tr>\n",
       "    <tr>\n",
       "      <th>...</th>\n",
       "      <td>...</td>\n",
       "      <td>...</td>\n",
       "      <td>...</td>\n",
       "      <td>...</td>\n",
       "    </tr>\n",
       "    <tr>\n",
       "      <th>4249</th>\n",
       "      <td>151.230</td>\n",
       "      <td>148.094575</td>\n",
       "      <td>28.533935</td>\n",
       "      <td>5.9759</td>\n",
       "    </tr>\n",
       "    <tr>\n",
       "      <th>4250</th>\n",
       "      <td>152.030</td>\n",
       "      <td>148.877988</td>\n",
       "      <td>28.684879</td>\n",
       "      <td>5.9759</td>\n",
       "    </tr>\n",
       "    <tr>\n",
       "      <th>4251</th>\n",
       "      <td>152.320</td>\n",
       "      <td>149.161976</td>\n",
       "      <td>28.739596</td>\n",
       "      <td>5.9759</td>\n",
       "    </tr>\n",
       "    <tr>\n",
       "      <th>4252</th>\n",
       "      <td>151.380</td>\n",
       "      <td>148.241465</td>\n",
       "      <td>28.562237</td>\n",
       "      <td>5.9759</td>\n",
       "    </tr>\n",
       "    <tr>\n",
       "      <th>4253</th>\n",
       "      <td>149.550</td>\n",
       "      <td>146.449406</td>\n",
       "      <td>28.216955</td>\n",
       "      <td>5.9759</td>\n",
       "    </tr>\n",
       "  </tbody>\n",
       "</table>\n",
       "<p>4254 rows × 4 columns</p>\n",
       "</div>"
      ],
      "text/plain": [
       "        Close  Adj. Close  P/E (LTM)  EPS - Est High (NTM)\n",
       "0      27.905   17.580627  35.994469                1.0800\n",
       "1      27.960   17.615278  36.065413                1.0800\n",
       "2      28.195   17.763332  36.368538                1.0800\n",
       "3      28.485   17.946037  36.742607                1.0800\n",
       "4      28.135   17.725531  36.291144                1.0800\n",
       "...       ...         ...        ...                   ...\n",
       "4249  151.230  148.094575  28.533935                5.9759\n",
       "4250  152.030  148.877988  28.684879                5.9759\n",
       "4251  152.320  149.161976  28.739596                5.9759\n",
       "4252  151.380  148.241465  28.562237                5.9759\n",
       "4253  149.550  146.449406  28.216955                5.9759\n",
       "\n",
       "[4254 rows x 4 columns]"
      ]
     },
     "execution_count": 4,
     "metadata": {},
     "output_type": "execute_result"
    }
   ],
   "source": [
    "df = pd.read_csv(\"./df_aaple.csv\")\n",
    "df = df.iloc[:,1:5]\n",
    "df"
   ]
  },
  {
   "cell_type": "code",
   "execution_count": 2,
   "metadata": {},
   "outputs": [],
   "source": [
    "df_aapl = pd.read_csv(\"df_aaple.csv\")\n",
    "df_small = df_aapl.iloc[:,:4]\n",
    "df_small.drop(columns=\"Adj. Close\", inplace=True)\n",
    "df_small[\"P/E\"] = df_small[\"P/E (LTM)\"]\n",
    "df_small.drop(columns=\"P/E (LTM)\", inplace=True)\n",
    "df_small[\"# Buys\"] = df_aapl[\"# Buys\"]\n",
    "df = df_small.iloc[:,1:]"
   ]
  },
  {
   "cell_type": "code",
   "execution_count": 3,
   "metadata": {},
   "outputs": [
    {
     "data": {
      "image/png": "[encoded data removed]",
      "text/plain": [
       "<Figure size 1080x720 with 1 Axes>"
      ]
     },
     "metadata": {},
     "output_type": "display_data"
    }
   ],
   "source": [
    "# Get skeleton graph\n",
    "# initialize graph lasso\n",
    "glasso = cdt.independence.graph.Glasso()\n",
    "# apply graph lasso to data\n",
    "skeleton = glasso.predict(df)\n",
    "# visualize network\n",
    "fig = plt.figure(figsize=(15,10))\n",
    "nx.draw_networkx(skeleton, font_size=18, font_color='r')"
   ]
  },
  {
   "cell_type": "code",
   "execution_count": 22,
   "metadata": {},
   "outputs": [],
   "source": [
    "cdt.SETTINGS.rpath = 'C:\\Program Files\\R\\R-4.0.3\\bin\\x64\\R.exe' # path to your r executable\n"
   ]
  },
  {
   "cell_type": "code",
   "execution_count": 4,
   "metadata": {},
   "outputs": [
    {
     "name": "stdout",
     "output_type": "stream",
     "text": [
      "R Call errored, is R available ?\n"
     ]
    },
    {
     "ename": "FileNotFoundError",
     "evalue": "[Errno 2] No such file or directory: 'Rscript'",
     "output_type": "error",
     "traceback": [
      "\u001b[0;31m---------------------------------------------------------------------------\u001b[0m",
      "\u001b[0;31mFileNotFoundError\u001b[0m                         Traceback (most recent call last)",
      "\u001b[1;32m/home/apoletaev/VSCodeProjects/Sun-2014/cdt_test.ipynb Cell 6'\u001b[0m in \u001b[0;36m<cell line: 2>\u001b[0;34m()\u001b[0m\n\u001b[1;32m      <a href='vscode-notebook-cell:/home/apoletaev/VSCodeProjects/Sun-2014/cdt_test.ipynb#ch0000005?line=0'>1</a>\u001b[0m \u001b[39m# GES algorithm\u001b[39;00m\n\u001b[0;32m----> <a href='vscode-notebook-cell:/home/apoletaev/VSCodeProjects/Sun-2014/cdt_test.ipynb#ch0000005?line=1'>2</a>\u001b[0m model_ges \u001b[39m=\u001b[39m cdt\u001b[39m.\u001b[39;49mcausality\u001b[39m.\u001b[39;49mgraph\u001b[39m.\u001b[39;49mGES()\n",
      "File \u001b[0;32m~/miniconda3/envs/test1/lib/python3.10/site-packages/cdt/causality/graph/GES.py:109\u001b[0m, in \u001b[0;36mGES.__init__\u001b[0;34m(self, score, verbose)\u001b[0m\n\u001b[1;32m    <a href='file:///home/apoletaev/miniconda3/envs/test1/lib/python3.10/site-packages/cdt/causality/graph/GES.py?line=106'>107</a>\u001b[0m \u001b[39mdef\u001b[39;00m \u001b[39m__init__\u001b[39m(\u001b[39mself\u001b[39m, score\u001b[39m=\u001b[39m\u001b[39m'\u001b[39m\u001b[39mobs\u001b[39m\u001b[39m'\u001b[39m,verbose\u001b[39m=\u001b[39m\u001b[39mNone\u001b[39;00m):\n\u001b[1;32m    <a href='file:///home/apoletaev/miniconda3/envs/test1/lib/python3.10/site-packages/cdt/causality/graph/GES.py?line=107'>108</a>\u001b[0m     \u001b[39m\"\"\"Init the model and its available arguments.\"\"\"\u001b[39;00m\n\u001b[0;32m--> <a href='file:///home/apoletaev/miniconda3/envs/test1/lib/python3.10/site-packages/cdt/causality/graph/GES.py?line=108'>109</a>\u001b[0m     \u001b[39mif\u001b[39;00m \u001b[39mnot\u001b[39;00m RPackages\u001b[39m.\u001b[39;49mpcalg:\n\u001b[1;32m    <a href='file:///home/apoletaev/miniconda3/envs/test1/lib/python3.10/site-packages/cdt/causality/graph/GES.py?line=109'>110</a>\u001b[0m         \u001b[39mraise\u001b[39;00m \u001b[39mImportError\u001b[39;00m(\u001b[39m\"\u001b[39m\u001b[39mR Package pcalg is not available.\u001b[39m\u001b[39m\"\u001b[39m)\n\u001b[1;32m    <a href='file:///home/apoletaev/miniconda3/envs/test1/lib/python3.10/site-packages/cdt/causality/graph/GES.py?line=111'>112</a>\u001b[0m     \u001b[39msuper\u001b[39m(GES, \u001b[39mself\u001b[39m)\u001b[39m.\u001b[39m\u001b[39m__init__\u001b[39m()\n",
      "File \u001b[0;32m~/miniconda3/envs/test1/lib/python3.10/site-packages/cdt/utils/R.py:132\u001b[0m, in \u001b[0;36mDefaultRPackages.__getattribute__\u001b[0;34m(self, name)\u001b[0m\n\u001b[1;32m    <a href='file:///home/apoletaev/miniconda3/envs/test1/lib/python3.10/site-packages/cdt/utils/R.py?line=129'>130</a>\u001b[0m out \u001b[39m=\u001b[39m \u001b[39mobject\u001b[39m\u001b[39m.\u001b[39m\u001b[39m__getattribute__\u001b[39m(\u001b[39mself\u001b[39m, name)\n\u001b[1;32m    <a href='file:///home/apoletaev/miniconda3/envs/test1/lib/python3.10/site-packages/cdt/utils/R.py?line=130'>131</a>\u001b[0m \u001b[39mif\u001b[39;00m out \u001b[39mis\u001b[39;00m \u001b[39mNone\u001b[39;00m \u001b[39mand\u001b[39;00m \u001b[39mnot\u001b[39;00m \u001b[39mobject\u001b[39m\u001b[39m.\u001b[39m\u001b[39m__getattribute__\u001b[39m(\u001b[39mself\u001b[39m, \u001b[39m'\u001b[39m\u001b[39minit\u001b[39m\u001b[39m'\u001b[39m):\n\u001b[0;32m--> <a href='file:///home/apoletaev/miniconda3/envs/test1/lib/python3.10/site-packages/cdt/utils/R.py?line=131'>132</a>\u001b[0m     availability \u001b[39m=\u001b[39m \u001b[39mself\u001b[39;49m\u001b[39m.\u001b[39;49mcheck_R_package(name)\n\u001b[1;32m    <a href='file:///home/apoletaev/miniconda3/envs/test1/lib/python3.10/site-packages/cdt/utils/R.py?line=132'>133</a>\u001b[0m     \u001b[39msetattr\u001b[39m(\u001b[39mself\u001b[39m, name, availability)\n\u001b[1;32m    <a href='file:///home/apoletaev/miniconda3/envs/test1/lib/python3.10/site-packages/cdt/utils/R.py?line=133'>134</a>\u001b[0m     \u001b[39mreturn\u001b[39;00m availability\n",
      "File \u001b[0;32m~/miniconda3/envs/test1/lib/python3.10/site-packages/cdt/utils/R.py:146\u001b[0m, in \u001b[0;36mDefaultRPackages.check_R_package\u001b[0;34m(self, package)\u001b[0m\n\u001b[1;32m    <a href='file:///home/apoletaev/miniconda3/envs/test1/lib/python3.10/site-packages/cdt/utils/R.py?line=136'>137</a>\u001b[0m \u001b[39mdef\u001b[39;00m \u001b[39mcheck_R_package\u001b[39m(\u001b[39mself\u001b[39m, package):\n\u001b[1;32m    <a href='file:///home/apoletaev/miniconda3/envs/test1/lib/python3.10/site-packages/cdt/utils/R.py?line=137'>138</a>\u001b[0m     \u001b[39m\"\"\"Execute a subprocess to check the package's availability.\u001b[39;00m\n\u001b[1;32m    <a href='file:///home/apoletaev/miniconda3/envs/test1/lib/python3.10/site-packages/cdt/utils/R.py?line=138'>139</a>\u001b[0m \n\u001b[1;32m    <a href='file:///home/apoletaev/miniconda3/envs/test1/lib/python3.10/site-packages/cdt/utils/R.py?line=139'>140</a>\u001b[0m \u001b[39m    Args:\u001b[39;00m\n\u001b[0;32m   (...)\u001b[0m\n\u001b[1;32m    <a href='file:///home/apoletaev/miniconda3/envs/test1/lib/python3.10/site-packages/cdt/utils/R.py?line=143'>144</a>\u001b[0m \u001b[39m        bool: `True` if the package is available, `False` otherwise\u001b[39;00m\n\u001b[1;32m    <a href='file:///home/apoletaev/miniconda3/envs/test1/lib/python3.10/site-packages/cdt/utils/R.py?line=144'>145</a>\u001b[0m \u001b[39m    \"\"\"\u001b[39;00m\n\u001b[0;32m--> <a href='file:///home/apoletaev/miniconda3/envs/test1/lib/python3.10/site-packages/cdt/utils/R.py?line=145'>146</a>\u001b[0m     test_package \u001b[39m=\u001b[39m \u001b[39mnot\u001b[39;00m \u001b[39mbool\u001b[39m(launch_R_script(Path(\u001b[39m\"\u001b[39;49m\u001b[39m{}\u001b[39;49;00m\u001b[39m/R_templates/test_import.R\u001b[39;49m\u001b[39m\"\u001b[39;49m\u001b[39m.\u001b[39;49mformat(os\u001b[39m.\u001b[39;49mpath\u001b[39m.\u001b[39;49mdirname(os\u001b[39m.\u001b[39;49mpath\u001b[39m.\u001b[39;49mrealpath(\u001b[39m__file__\u001b[39;49m)))),\n\u001b[1;32m    <a href='file:///home/apoletaev/miniconda3/envs/test1/lib/python3.10/site-packages/cdt/utils/R.py?line=146'>147</a>\u001b[0m                                                  {\u001b[39m\"\u001b[39;49m\u001b[39m{package}\u001b[39;49;00m\u001b[39m\"\u001b[39;49m: package}, verbose\u001b[39m=\u001b[39;49m\u001b[39mTrue\u001b[39;49;00m))\n\u001b[1;32m    <a href='file:///home/apoletaev/miniconda3/envs/test1/lib/python3.10/site-packages/cdt/utils/R.py?line=147'>148</a>\u001b[0m     \u001b[39mreturn\u001b[39;00m test_package\n",
      "File \u001b[0;32m~/miniconda3/envs/test1/lib/python3.10/site-packages/cdt/utils/R.py:197\u001b[0m, in \u001b[0;36mlaunch_R_script\u001b[0;34m(template, arguments, output_function, verbose, debug)\u001b[0m\n\u001b[1;32m    <a href='file:///home/apoletaev/miniconda3/envs/test1/lib/python3.10/site-packages/cdt/utils/R.py?line=194'>195</a>\u001b[0m     \u001b[39mexcept\u001b[39;00m \u001b[39mException\u001b[39;00m \u001b[39mas\u001b[39;00m e:\n\u001b[1;32m    <a href='file:///home/apoletaev/miniconda3/envs/test1/lib/python3.10/site-packages/cdt/utils/R.py?line=195'>196</a>\u001b[0m         \u001b[39mprint\u001b[39m(\u001b[39m\"\u001b[39m\u001b[39mR Call errored, is R available ?\u001b[39m\u001b[39m\"\u001b[39m)\n\u001b[0;32m--> <a href='file:///home/apoletaev/miniconda3/envs/test1/lib/python3.10/site-packages/cdt/utils/R.py?line=196'>197</a>\u001b[0m         \u001b[39mraise\u001b[39;00m e\n\u001b[1;32m    <a href='file:///home/apoletaev/miniconda3/envs/test1/lib/python3.10/site-packages/cdt/utils/R.py?line=198'>199</a>\u001b[0m \u001b[39melse\u001b[39;00m:\n\u001b[1;32m    <a href='file:///home/apoletaev/miniconda3/envs/test1/lib/python3.10/site-packages/cdt/utils/R.py?line=199'>200</a>\u001b[0m     \u001b[39mtry\u001b[39;00m:\n",
      "File \u001b[0;32m~/miniconda3/envs/test1/lib/python3.10/site-packages/cdt/utils/R.py:192\u001b[0m, in \u001b[0;36mlaunch_R_script\u001b[0;34m(template, arguments, output_function, verbose, debug)\u001b[0m\n\u001b[1;32m    <a href='file:///home/apoletaev/miniconda3/envs/test1/lib/python3.10/site-packages/cdt/utils/R.py?line=189'>190</a>\u001b[0m \u001b[39mif\u001b[39;00m output_function \u001b[39mis\u001b[39;00m \u001b[39mNone\u001b[39;00m:\n\u001b[1;32m    <a href='file:///home/apoletaev/miniconda3/envs/test1/lib/python3.10/site-packages/cdt/utils/R.py?line=190'>191</a>\u001b[0m     \u001b[39mtry\u001b[39;00m:\n\u001b[0;32m--> <a href='file:///home/apoletaev/miniconda3/envs/test1/lib/python3.10/site-packages/cdt/utils/R.py?line=191'>192</a>\u001b[0m         output \u001b[39m=\u001b[39m subprocess\u001b[39m.\u001b[39;49mcall([\u001b[39mstr\u001b[39;49m(rpath), \u001b[39m\"\u001b[39;49m\u001b[39m--vanilla\u001b[39;49m\u001b[39m\"\u001b[39;49m, \u001b[39mstr\u001b[39;49m(scriptpath)],\n\u001b[1;32m    <a href='file:///home/apoletaev/miniconda3/envs/test1/lib/python3.10/site-packages/cdt/utils/R.py?line=192'>193</a>\u001b[0m                                 stdout\u001b[39m=\u001b[39;49msubprocess\u001b[39m.\u001b[39;49mDEVNULL,\n\u001b[1;32m    <a href='file:///home/apoletaev/miniconda3/envs/test1/lib/python3.10/site-packages/cdt/utils/R.py?line=193'>194</a>\u001b[0m                                 stderr\u001b[39m=\u001b[39;49msubprocess\u001b[39m.\u001b[39;49mDEVNULL)\n\u001b[1;32m    <a href='file:///home/apoletaev/miniconda3/envs/test1/lib/python3.10/site-packages/cdt/utils/R.py?line=194'>195</a>\u001b[0m     \u001b[39mexcept\u001b[39;00m \u001b[39mException\u001b[39;00m \u001b[39mas\u001b[39;00m e:\n\u001b[1;32m    <a href='file:///home/apoletaev/miniconda3/envs/test1/lib/python3.10/site-packages/cdt/utils/R.py?line=195'>196</a>\u001b[0m         \u001b[39mprint\u001b[39m(\u001b[39m\"\u001b[39m\u001b[39mR Call errored, is R available ?\u001b[39m\u001b[39m\"\u001b[39m)\n",
      "File \u001b[0;32m~/miniconda3/envs/test1/lib/python3.10/subprocess.py:345\u001b[0m, in \u001b[0;36mcall\u001b[0;34m(timeout, *popenargs, **kwargs)\u001b[0m\n\u001b[1;32m    <a href='file:///home/apoletaev/miniconda3/envs/test1/lib/python3.10/subprocess.py?line=336'>337</a>\u001b[0m \u001b[39mdef\u001b[39;00m \u001b[39mcall\u001b[39m(\u001b[39m*\u001b[39mpopenargs, timeout\u001b[39m=\u001b[39m\u001b[39mNone\u001b[39;00m, \u001b[39m*\u001b[39m\u001b[39m*\u001b[39mkwargs):\n\u001b[1;32m    <a href='file:///home/apoletaev/miniconda3/envs/test1/lib/python3.10/subprocess.py?line=337'>338</a>\u001b[0m     \u001b[39m\"\"\"Run command with arguments.  Wait for command to complete or\u001b[39;00m\n\u001b[1;32m    <a href='file:///home/apoletaev/miniconda3/envs/test1/lib/python3.10/subprocess.py?line=338'>339</a>\u001b[0m \u001b[39m    timeout, then return the returncode attribute.\u001b[39;00m\n\u001b[1;32m    <a href='file:///home/apoletaev/miniconda3/envs/test1/lib/python3.10/subprocess.py?line=339'>340</a>\u001b[0m \n\u001b[0;32m   (...)\u001b[0m\n\u001b[1;32m    <a href='file:///home/apoletaev/miniconda3/envs/test1/lib/python3.10/subprocess.py?line=342'>343</a>\u001b[0m \u001b[39m    retcode = call([\"ls\", \"-l\"])\u001b[39;00m\n\u001b[1;32m    <a href='file:///home/apoletaev/miniconda3/envs/test1/lib/python3.10/subprocess.py?line=343'>344</a>\u001b[0m \u001b[39m    \"\"\"\u001b[39;00m\n\u001b[0;32m--> <a href='file:///home/apoletaev/miniconda3/envs/test1/lib/python3.10/subprocess.py?line=344'>345</a>\u001b[0m     \u001b[39mwith\u001b[39;00m Popen(\u001b[39m*\u001b[39;49mpopenargs, \u001b[39m*\u001b[39;49m\u001b[39m*\u001b[39;49mkwargs) \u001b[39mas\u001b[39;00m p:\n\u001b[1;32m    <a href='file:///home/apoletaev/miniconda3/envs/test1/lib/python3.10/subprocess.py?line=345'>346</a>\u001b[0m         \u001b[39mtry\u001b[39;00m:\n\u001b[1;32m    <a href='file:///home/apoletaev/miniconda3/envs/test1/lib/python3.10/subprocess.py?line=346'>347</a>\u001b[0m             \u001b[39mreturn\u001b[39;00m p\u001b[39m.\u001b[39mwait(timeout\u001b[39m=\u001b[39mtimeout)\n",
      "File \u001b[0;32m~/miniconda3/envs/test1/lib/python3.10/subprocess.py:966\u001b[0m, in \u001b[0;36mPopen.__init__\u001b[0;34m(self, args, bufsize, executable, stdin, stdout, stderr, preexec_fn, close_fds, shell, cwd, env, universal_newlines, startupinfo, creationflags, restore_signals, start_new_session, pass_fds, user, group, extra_groups, encoding, errors, text, umask, pipesize)\u001b[0m\n\u001b[1;32m    <a href='file:///home/apoletaev/miniconda3/envs/test1/lib/python3.10/subprocess.py?line=961'>962</a>\u001b[0m         \u001b[39mif\u001b[39;00m \u001b[39mself\u001b[39m\u001b[39m.\u001b[39mtext_mode:\n\u001b[1;32m    <a href='file:///home/apoletaev/miniconda3/envs/test1/lib/python3.10/subprocess.py?line=962'>963</a>\u001b[0m             \u001b[39mself\u001b[39m\u001b[39m.\u001b[39mstderr \u001b[39m=\u001b[39m io\u001b[39m.\u001b[39mTextIOWrapper(\u001b[39mself\u001b[39m\u001b[39m.\u001b[39mstderr,\n\u001b[1;32m    <a href='file:///home/apoletaev/miniconda3/envs/test1/lib/python3.10/subprocess.py?line=963'>964</a>\u001b[0m                     encoding\u001b[39m=\u001b[39mencoding, errors\u001b[39m=\u001b[39merrors)\n\u001b[0;32m--> <a href='file:///home/apoletaev/miniconda3/envs/test1/lib/python3.10/subprocess.py?line=965'>966</a>\u001b[0m     \u001b[39mself\u001b[39;49m\u001b[39m.\u001b[39;49m_execute_child(args, executable, preexec_fn, close_fds,\n\u001b[1;32m    <a href='file:///home/apoletaev/miniconda3/envs/test1/lib/python3.10/subprocess.py?line=966'>967</a>\u001b[0m                         pass_fds, cwd, env,\n\u001b[1;32m    <a href='file:///home/apoletaev/miniconda3/envs/test1/lib/python3.10/subprocess.py?line=967'>968</a>\u001b[0m                         startupinfo, creationflags, shell,\n\u001b[1;32m    <a href='file:///home/apoletaev/miniconda3/envs/test1/lib/python3.10/subprocess.py?line=968'>969</a>\u001b[0m                         p2cread, p2cwrite,\n\u001b[1;32m    <a href='file:///home/apoletaev/miniconda3/envs/test1/lib/python3.10/subprocess.py?line=969'>970</a>\u001b[0m                         c2pread, c2pwrite,\n\u001b[1;32m    <a href='file:///home/apoletaev/miniconda3/envs/test1/lib/python3.10/subprocess.py?line=970'>971</a>\u001b[0m                         errread, errwrite,\n\u001b[1;32m    <a href='file:///home/apoletaev/miniconda3/envs/test1/lib/python3.10/subprocess.py?line=971'>972</a>\u001b[0m                         restore_signals,\n\u001b[1;32m    <a href='file:///home/apoletaev/miniconda3/envs/test1/lib/python3.10/subprocess.py?line=972'>973</a>\u001b[0m                         gid, gids, uid, umask,\n\u001b[1;32m    <a href='file:///home/apoletaev/miniconda3/envs/test1/lib/python3.10/subprocess.py?line=973'>974</a>\u001b[0m                         start_new_session)\n\u001b[1;32m    <a href='file:///home/apoletaev/miniconda3/envs/test1/lib/python3.10/subprocess.py?line=974'>975</a>\u001b[0m \u001b[39mexcept\u001b[39;00m:\n\u001b[1;32m    <a href='file:///home/apoletaev/miniconda3/envs/test1/lib/python3.10/subprocess.py?line=975'>976</a>\u001b[0m     \u001b[39m# Cleanup if the child failed starting.\u001b[39;00m\n\u001b[1;32m    <a href='file:///home/apoletaev/miniconda3/envs/test1/lib/python3.10/subprocess.py?line=976'>977</a>\u001b[0m     \u001b[39mfor\u001b[39;00m f \u001b[39min\u001b[39;00m \u001b[39mfilter\u001b[39m(\u001b[39mNone\u001b[39;00m, (\u001b[39mself\u001b[39m\u001b[39m.\u001b[39mstdin, \u001b[39mself\u001b[39m\u001b[39m.\u001b[39mstdout, \u001b[39mself\u001b[39m\u001b[39m.\u001b[39mstderr)):\n",
      "File \u001b[0;32m~/miniconda3/envs/test1/lib/python3.10/subprocess.py:1842\u001b[0m, in \u001b[0;36mPopen._execute_child\u001b[0;34m(self, args, executable, preexec_fn, close_fds, pass_fds, cwd, env, startupinfo, creationflags, shell, p2cread, p2cwrite, c2pread, c2pwrite, errread, errwrite, restore_signals, gid, gids, uid, umask, start_new_session)\u001b[0m\n\u001b[1;32m   <a href='file:///home/apoletaev/miniconda3/envs/test1/lib/python3.10/subprocess.py?line=1839'>1840</a>\u001b[0m     \u001b[39mif\u001b[39;00m errno_num \u001b[39m!=\u001b[39m \u001b[39m0\u001b[39m:\n\u001b[1;32m   <a href='file:///home/apoletaev/miniconda3/envs/test1/lib/python3.10/subprocess.py?line=1840'>1841</a>\u001b[0m         err_msg \u001b[39m=\u001b[39m os\u001b[39m.\u001b[39mstrerror(errno_num)\n\u001b[0;32m-> <a href='file:///home/apoletaev/miniconda3/envs/test1/lib/python3.10/subprocess.py?line=1841'>1842</a>\u001b[0m     \u001b[39mraise\u001b[39;00m child_exception_type(errno_num, err_msg, err_filename)\n\u001b[1;32m   <a href='file:///home/apoletaev/miniconda3/envs/test1/lib/python3.10/subprocess.py?line=1842'>1843</a>\u001b[0m \u001b[39mraise\u001b[39;00m child_exception_type(err_msg)\n",
      "\u001b[0;31mFileNotFoundError\u001b[0m: [Errno 2] No such file or directory: 'Rscript'"
     ]
    }
   ],
   "source": [
    "# GES algorithm\n",
    "model_ges = cdt.causality.graph.GES()\n",
    "# graph_ges = model_ges.predict(df, skeleton)\n",
    "\n",
    "# # visualize network\n",
    "# fig=plt.figure(figsize=(15,10))\n",
    "# nx.draw_networkx(graph_ges, font_size=18, font_color='r')"
   ]
  },
  {
   "cell_type": "code",
   "execution_count": null,
   "metadata": {},
   "outputs": [],
   "source": [
    "# test change"
   ]
  }
 ],
 "metadata": {
  "interpreter": {
   "hash": "ecda2226e1d4421bab328a480e856f7e2efe4f4ade8deb7f822fd3214f8320da"
  },
  "kernelspec": {
   "display_name": "Python 3.10.4 ('test1')",
   "language": "python",
   "name": "python3"
  },
  "language_info": {
   "codemirror_mode": {
    "name": "ipython",
    "version": 3
   },
   "file_extension": ".py",
   "mimetype": "text/x-python",
   "name": "python",
   "nbconvert_exporter": "python",
   "pygments_lexer": "ipython3",
   "version": "3.10.4"
  },
  "orig_nbformat": 4
 },
 "nbformat": 4,
 "nbformat_minor": 2
}
