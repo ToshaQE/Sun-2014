{
 "cells": [
  {
   "cell_type": "code",
   "execution_count": 2,
   "metadata": {},
   "outputs": [
    {
     "name": "stderr",
     "output_type": "stream",
     "text": [
      "/home/apoletaev/miniconda3/envs/test1/lib/python3.10/site-packages/tqdm/auto.py:22: TqdmWarning: IProgress not found. Please update jupyter and ipywidgets. See https://ipywidgets.readthedocs.io/en/stable/user_install.html\n",
      "  from .autonotebook import tqdm as notebook_tqdm\n"
     ]
    }
   ],
   "source": [
    "import pandas as pd\n",
    "import numpy as np\n",
    "import matplotlib.pyplot as plt\n",
    "from statsmodels.tsa.stattools import adfuller\n",
    "from scipy import stats\n",
    "from statsmodels.tsa.api import VAR\n",
    "from statsmodels.tools.eval_measures import rmse, aic\n",
    "from statsmodels.tsa.ar_model import AutoReg\n",
    "from statsmodels.tsa.stattools import grangercausalitytests\n",
    "import pickle\n",
    "from sklearn.model_selection import train_test_split\n",
    "import re\n",
    "\n",
    "\n",
    "from FRUFS import FRUFS\n",
    "import matplotlib.pyplot as plt\n",
    "import optuna\n",
    "import joblib, gc\n",
    "import lightgbm as lgb\n",
    "import seaborn as sns\n",
    "\n",
    "from sklearn.datasets import make_regression\n",
    "from scipy.stats import pearsonr\n",
    "from tqdm.notebook import trange, tqdm\n",
    "from FRUFS import FRUFS\n",
    "from sklearn.model_selection import train_test_split\n",
    "from sklearn.metrics import mean_squared_error"
   ]
  },
  {
   "cell_type": "code",
   "execution_count": 3,
   "metadata": {},
   "outputs": [],
   "source": [
    "df_aapl = pd.read_csv(\"df_aaple.csv\")\n",
    "\n",
    "df_medium = df_aapl.iloc[:2000,:16]\n"
   ]
  },
  {
   "cell_type": "code",
   "execution_count": 4,
   "metadata": {},
   "outputs": [
    {
     "data": {
      "text/html": [
       "<div>\n",
       "<style scoped>\n",
       "    .dataframe tbody tr th:only-of-type {\n",
       "        vertical-align: middle;\n",
       "    }\n",
       "\n",
       "    .dataframe tbody tr th {\n",
       "        vertical-align: top;\n",
       "    }\n",
       "\n",
       "    .dataframe thead th {\n",
       "        text-align: right;\n",
       "    }\n",
       "</style>\n",
       "<table border=\"1\" class=\"dataframe\">\n",
       "  <thead>\n",
       "    <tr style=\"text-align: right;\">\n",
       "      <th></th>\n",
       "      <th>Close.L1</th>\n",
       "      <th>Close.L2</th>\n",
       "      <th>Close.L3</th>\n",
       "      <th>Close.L4</th>\n",
       "      <th>Close.L5</th>\n",
       "      <th>Close.L6</th>\n",
       "      <th>Adj. Close.L1</th>\n",
       "      <th>P/E (LTM).L1</th>\n",
       "      <th>EPS - Est Low (NTM).L1</th>\n",
       "    </tr>\n",
       "  </thead>\n",
       "  <tbody>\n",
       "    <tr>\n",
       "      <th>0</th>\n",
       "      <td>23.290</td>\n",
       "      <td>23.71</td>\n",
       "      <td>23.48</td>\n",
       "      <td>23.66</td>\n",
       "      <td>24.28</td>\n",
       "      <td>23.73</td>\n",
       "      <td>-0.264607</td>\n",
       "      <td>-0.567380</td>\n",
       "      <td>0.0</td>\n",
       "    </tr>\n",
       "    <tr>\n",
       "      <th>1</th>\n",
       "      <td>23.690</td>\n",
       "      <td>23.29</td>\n",
       "      <td>23.71</td>\n",
       "      <td>23.48</td>\n",
       "      <td>23.66</td>\n",
       "      <td>24.28</td>\n",
       "      <td>0.252007</td>\n",
       "      <td>0.540362</td>\n",
       "      <td>0.0</td>\n",
       "    </tr>\n",
       "    <tr>\n",
       "      <th>2</th>\n",
       "      <td>23.220</td>\n",
       "      <td>23.69</td>\n",
       "      <td>23.29</td>\n",
       "      <td>23.71</td>\n",
       "      <td>23.48</td>\n",
       "      <td>23.66</td>\n",
       "      <td>-0.296108</td>\n",
       "      <td>-0.634925</td>\n",
       "      <td>0.0</td>\n",
       "    </tr>\n",
       "    <tr>\n",
       "      <th>3</th>\n",
       "      <td>23.220</td>\n",
       "      <td>23.22</td>\n",
       "      <td>23.69</td>\n",
       "      <td>23.29</td>\n",
       "      <td>23.71</td>\n",
       "      <td>23.48</td>\n",
       "      <td>0.000000</td>\n",
       "      <td>0.000000</td>\n",
       "      <td>0.0</td>\n",
       "    </tr>\n",
       "    <tr>\n",
       "      <th>4</th>\n",
       "      <td>23.495</td>\n",
       "      <td>23.22</td>\n",
       "      <td>23.22</td>\n",
       "      <td>23.69</td>\n",
       "      <td>23.29</td>\n",
       "      <td>23.71</td>\n",
       "      <td>0.173255</td>\n",
       "      <td>0.371499</td>\n",
       "      <td>0.0</td>\n",
       "    </tr>\n",
       "    <tr>\n",
       "      <th>...</th>\n",
       "      <td>...</td>\n",
       "      <td>...</td>\n",
       "      <td>...</td>\n",
       "      <td>...</td>\n",
       "      <td>...</td>\n",
       "      <td>...</td>\n",
       "      <td>...</td>\n",
       "      <td>...</td>\n",
       "      <td>...</td>\n",
       "    </tr>\n",
       "    <tr>\n",
       "      <th>1574</th>\n",
       "      <td>19.320</td>\n",
       "      <td>19.42</td>\n",
       "      <td>19.32</td>\n",
       "      <td>19.79</td>\n",
       "      <td>19.79</td>\n",
       "      <td>20.19</td>\n",
       "      <td>-0.075828</td>\n",
       "      <td>-0.057438</td>\n",
       "      <td>0.0</td>\n",
       "    </tr>\n",
       "    <tr>\n",
       "      <th>1575</th>\n",
       "      <td>19.890</td>\n",
       "      <td>19.32</td>\n",
       "      <td>19.42</td>\n",
       "      <td>19.32</td>\n",
       "      <td>19.79</td>\n",
       "      <td>19.79</td>\n",
       "      <td>0.432221</td>\n",
       "      <td>0.327395</td>\n",
       "      <td>0.0</td>\n",
       "    </tr>\n",
       "    <tr>\n",
       "      <th>1576</th>\n",
       "      <td>19.750</td>\n",
       "      <td>19.89</td>\n",
       "      <td>19.32</td>\n",
       "      <td>19.42</td>\n",
       "      <td>19.32</td>\n",
       "      <td>19.79</td>\n",
       "      <td>-0.106159</td>\n",
       "      <td>-0.080413</td>\n",
       "      <td>0.0</td>\n",
       "    </tr>\n",
       "    <tr>\n",
       "      <th>1577</th>\n",
       "      <td>20.060</td>\n",
       "      <td>19.75</td>\n",
       "      <td>19.89</td>\n",
       "      <td>19.32</td>\n",
       "      <td>19.42</td>\n",
       "      <td>19.32</td>\n",
       "      <td>0.235067</td>\n",
       "      <td>0.178057</td>\n",
       "      <td>0.0</td>\n",
       "    </tr>\n",
       "    <tr>\n",
       "      <th>1578</th>\n",
       "      <td>20.220</td>\n",
       "      <td>20.06</td>\n",
       "      <td>19.75</td>\n",
       "      <td>19.89</td>\n",
       "      <td>19.32</td>\n",
       "      <td>19.42</td>\n",
       "      <td>0.121325</td>\n",
       "      <td>0.091900</td>\n",
       "      <td>0.0</td>\n",
       "    </tr>\n",
       "  </tbody>\n",
       "</table>\n",
       "<p>1579 rows × 9 columns</p>\n",
       "</div>"
      ],
      "text/plain": [
       "      Close.L1  Close.L2  Close.L3  Close.L4  Close.L5  Close.L6  \\\n",
       "0       23.290     23.71     23.48     23.66     24.28     23.73   \n",
       "1       23.690     23.29     23.71     23.48     23.66     24.28   \n",
       "2       23.220     23.69     23.29     23.71     23.48     23.66   \n",
       "3       23.220     23.22     23.69     23.29     23.71     23.48   \n",
       "4       23.495     23.22     23.22     23.69     23.29     23.71   \n",
       "...        ...       ...       ...       ...       ...       ...   \n",
       "1574    19.320     19.42     19.32     19.79     19.79     20.19   \n",
       "1575    19.890     19.32     19.42     19.32     19.79     19.79   \n",
       "1576    19.750     19.89     19.32     19.42     19.32     19.79   \n",
       "1577    20.060     19.75     19.89     19.32     19.42     19.32   \n",
       "1578    20.220     20.06     19.75     19.89     19.32     19.42   \n",
       "\n",
       "      Adj. Close.L1  P/E (LTM).L1  EPS - Est Low (NTM).L1  \n",
       "0         -0.264607     -0.567380                     0.0  \n",
       "1          0.252007      0.540362                     0.0  \n",
       "2         -0.296108     -0.634925                     0.0  \n",
       "3          0.000000      0.000000                     0.0  \n",
       "4          0.173255      0.371499                     0.0  \n",
       "...             ...           ...                     ...  \n",
       "1574      -0.075828     -0.057438                     0.0  \n",
       "1575       0.432221      0.327395                     0.0  \n",
       "1576      -0.106159     -0.080413                     0.0  \n",
       "1577       0.235067      0.178057                     0.0  \n",
       "1578       0.121325      0.091900                     0.0  \n",
       "\n",
       "[1579 rows x 9 columns]"
      ]
     },
     "execution_count": 4,
     "metadata": {},
     "output_type": "execute_result"
    }
   ],
   "source": [
    "df = pd.read_csv(\"sun_x_train.csv\")\n",
    "df"
   ]
  },
  {
   "cell_type": "code",
   "execution_count": 5,
   "metadata": {},
   "outputs": [
    {
     "name": "stderr",
     "output_type": "stream",
     "text": [
      "Progress bar: 100%|██████████| 9/9 [00:03<00:00,  2.69it/s]\n"
     ]
    }
   ],
   "source": [
    "model_frufs_generated = FRUFS(\n",
    "        model_r=lgb.LGBMRegressor(random_state=42),\n",
    "        k=5\n",
    "        #categorical_features = [\"#Buys\", \"# Hold\", \"# Sell\", \"Total Rec\"]\n",
    "    )\n",
    "model_frufs_generated.fit(df.iloc[:,:])"
   ]
  },
  {
   "cell_type": "code",
   "execution_count": 6,
   "metadata": {},
   "outputs": [],
   "source": [
    "pruned_df = model_frufs_generated.transform(df)\n"
   ]
  },
  {
   "cell_type": "code",
   "execution_count": 8,
   "metadata": {},
   "outputs": [],
   "source": [
    "pruned_df.to_csv(\"pruned_df.csv\", index=False)"
   ]
  },
  {
   "cell_type": "code",
   "execution_count": 12,
   "metadata": {},
   "outputs": [
    {
     "data": {
      "image/png": "[encoded data removed]",
      "text/plain": [
       "<Figure size 432x288 with 1 Axes>"
      ]
     },
     "metadata": {
      "needs_background": "light"
     },
     "output_type": "display_data"
    }
   ],
   "source": [
    "model_frufs_generated.feature_importance()"
   ]
  },
  {
   "cell_type": "code",
   "execution_count": 6,
   "metadata": {},
   "outputs": [],
   "source": [
    "import logging"
   ]
  },
  {
   "cell_type": "code",
   "execution_count": null,
   "metadata": {},
   "outputs": [],
   "source": [
    "# set up logging to console\n",
    "console = logging.StreamHandler()\n",
    "console.setLevel(logging.DEBUG)\n",
    "# set a format which is simpler for console use\n",
    "formatter = logging.Formatter('%(name)-12s: %(levelname)-8s %(message)s')\n",
    "console.setFormatter(formatter)\n",
    "# add the handler to the root logger\n",
    "logging.getLogger('').addHandler(console)\n",
    "\n",
    "logger = logging.getLogger(__name__)"
   ]
  },
  {
   "cell_type": "code",
   "execution_count": 16,
   "metadata": {},
   "outputs": [],
   "source": [
    "logging.info(\"Error\")"
   ]
  }
 ],
 "metadata": {
  "interpreter": {
   "hash": "ecda2226e1d4421bab328a480e856f7e2efe4f4ade8deb7f822fd3214f8320da"
  },
  "kernelspec": {
   "display_name": "Python 3.10.4 ('test1')",
   "language": "python",
   "name": "python3"
  },
  "language_info": {
   "codemirror_mode": {
    "name": "ipython",
    "version": 3
   },
   "file_extension": ".py",
   "mimetype": "text/x-python",
   "name": "python",
   "nbconvert_exporter": "python",
   "pygments_lexer": "ipython3",
   "version": "3.10.4"
  },
  "orig_nbformat": 4
 },
 "nbformat": 4,
 "nbformat_minor": 2
}
