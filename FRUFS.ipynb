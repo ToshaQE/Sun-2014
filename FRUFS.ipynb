{
 "cells": [
  {
   "cell_type": "code",
   "execution_count": 2,
   "metadata": {},
   "outputs": [
    {
     "name": "stderr",
     "output_type": "stream",
     "text": [
      "/home/apoletaev/miniconda3/envs/test1/lib/python3.10/site-packages/tqdm/auto.py:22: TqdmWarning: IProgress not found. Please update jupyter and ipywidgets. See https://ipywidgets.readthedocs.io/en/stable/user_install.html\n",
      "  from .autonotebook import tqdm as notebook_tqdm\n"
     ]
    }
   ],
   "source": [
    "import pandas as pd\n",
    "import numpy as np\n",
    "import matplotlib.pyplot as plt\n",
    "from statsmodels.tsa.stattools import adfuller\n",
    "from scipy import stats\n",
    "from statsmodels.tsa.api import VAR\n",
    "from statsmodels.tools.eval_measures import rmse, aic\n",
    "from statsmodels.tsa.ar_model import AutoReg\n",
    "from statsmodels.tsa.stattools import grangercausalitytests\n",
    "import pickle\n",
    "from sklearn.model_selection import train_test_split\n",
    "import re\n",
    "\n",
    "\n",
    "from FRUFS import FRUFS\n",
    "import matplotlib.pyplot as plt\n",
    "import optuna\n",
    "import joblib, gc\n",
    "import lightgbm as lgb\n",
    "import seaborn as sns\n",
    "\n",
    "from sklearn.datasets import make_regression\n",
    "from scipy.stats import pearsonr\n",
    "from tqdm.notebook import trange, tqdm\n",
    "from FRUFS import FRUFS\n",
    "from sklearn.model_selection import train_test_split\n",
    "from sklearn.metrics import mean_squared_error\n",
    "\n",
    "from sigfig import round"
   ]
  },
  {
   "cell_type": "code",
   "execution_count": 3,
   "metadata": {},
   "outputs": [
    {
     "name": "stderr",
     "output_type": "stream",
     "text": [
      "Progress bar: 100%|██████████| 10/10 [00:02<00:00,  3.85it/s]\n"
     ]
    },
    {
     "name": "stdout",
     "output_type": "stream",
     "text": [
      "MAE Train = 1783.7960107260892; MAE_test = 6198.722122362802\n",
      "MAE Train = 1788.1477663293588; MAE_test = 6219.187611492197\n",
      "MAE Train = 724.420042927694; MAE_test = 2393.96514430587\n",
      "MAE Train = 719.7162831922135; MAE_test = 2432.2528571840176\n",
      "MAE Train = 735.8995712873292; MAE_test = 2436.570779697856\n",
      "MAE Train = 735.962837505826; MAE_test = 2440.377820888747\n",
      "MAE Train = 401.08531975229613; MAE_test = 1363.2816078193173\n",
      "MAE Train = 402.02869642373935; MAE_test = 1361.0147923669203\n",
      "MAE Train = 407.0903460045187; MAE_test = 1428.7054951163625\n",
      "MAE Train = 406.20117085445185; MAE_test = 1420.9815512371026\n"
     ]
    },
    {
     "data": {
      "image/png": "[encoded data removed]",
      "text/plain": [
       "<Figure size 432x288 with 1 Axes>"
      ]
     },
     "metadata": {
      "needs_background": "light"
     },
     "output_type": "display_data"
    },
    {
     "name": "stdout",
     "output_type": "stream",
     "text": [
      "Stop\n"
     ]
    }
   ],
   "source": [
    "# Unpickling the data\n",
    "infile = open(\"Sun_Model_Data\",'rb')\n",
    "Model_Data = pickle.load(infile)\n",
    "infile.close()\n",
    "\n",
    "# Reading in the data\n",
    "sun_x_train = Model_Data.train_x\n",
    "sun_y_train = Model_Data.train_y\n",
    "sun_y_test = Model_Data.test_y\n",
    "sun_x_test = Model_Data.test_x\n",
    "sun_MAE_train = Model_Data.MAE[\"Stationary\"][\"train\"]\n",
    "sun_MAE_test = Model_Data.MAE[\"Stationary\"][\"test\"]\n",
    "sun_fin_model = Model_Data.fin_model\n",
    "\n",
    "sun_model_params = list(sun_fin_model.params.index)\n",
    "\n",
    "total_n_features = len(list(sun_x_train.columns))\n",
    "# Defining FRUFS model with k=maximum features\n",
    "model_frufs_generated = FRUFS(\n",
    "            model_r=lgb.LGBMRegressor(random_state=42),\n",
    "            k=total_n_features,\n",
    "            n_jobs = -1\n",
    "            #categorical_features = [\"#Buys\", \"# Hold\", \"# Sell\", \"Total Rec\"]\n",
    "        )\n",
    "# fit_transform returns data ranked in the order of importance\n",
    "pruned_df = model_frufs_generated.fit_transform(sun_x_train)\n",
    "\n",
    "FRUFS_Loop = {\"MAE Train\":[], \"MAE Test\":[], \"Feature %\":[]}\n",
    "\n",
    "for n in list(range(1, total_n_features+1)):\n",
    "    pruned_df_cut =  pruned_df.iloc[:,:n]\n",
    "    # Training the model on the features selected by FRUFS\n",
    "    # Check whether the Sun Model has a constant or not\n",
    "    if \"const\" in sun_model_params:\n",
    "        frufs_model = AutoReg(sun_y_train, lags=0, exog=pruned_df_cut).fit()\n",
    "    else:\n",
    "        frufs_model = AutoReg(sun_y_train, lags=0, exog=pruned_df_cut, trend=\"n\").fit()\n",
    "\n",
    "    # Calculating MAE train (.sqeeze is reuired when sun_y is saved as a DF and not series)\n",
    "    MAE_train = np.nanmean(abs(frufs_model.predict() - sun_y_train.squeeze()))\n",
    "\n",
    "    # Saving names of the features selected by FRUFS in a list\n",
    "    frufs_features = list(pruned_df_cut.columns)\n",
    "\n",
    "    # Defining test dataset with only features selected by FRUFS \n",
    "    frufs_x_test = sun_x_test[frufs_features]\n",
    "\n",
    "    # Defining first and last out-of-sample indices to predict\n",
    "    first_oos_ind = len(sun_y_train)\n",
    "    last_oos_ind = first_oos_ind + len(sun_y_test) - 1\n",
    "\n",
    "    # Predicting the oos ys with the test data\n",
    "    y_pred_out_frufs = frufs_model.predict(start=first_oos_ind, end=last_oos_ind, exog_oos=frufs_x_test)\n",
    "    # Resetting index to make MAE_test calcuation possible\n",
    "    y_pred_out_frufs.reset_index(drop=True, inplace=True)\n",
    "    # Calculating MAE Test\n",
    "    MAE_test = np.nanmean(abs(y_pred_out_frufs - sun_y_test.squeeze()))\n",
    "\n",
    "    print(f\"MAE Train = {MAE_train}; MAE_test = {MAE_test}\")\n",
    "    # Feature_pc = round(n/total_n_features, sigfigs=3)\n",
    "\n",
    "    FRUFS_Loop[\"MAE Train\"].append(MAE_train)\n",
    "    FRUFS_Loop[\"MAE Test\"].append(MAE_test)\n",
    "    FRUFS_Loop[\"Feature %\"].append((n/total_n_features)*100)\n",
    "\n",
    "FRUFS_Loop[\"MAE Train % Change\"] = ((FRUFS_Loop[\"MAE Train\"]/sun_MAE_train) - 1)*100\n",
    "FRUFS_Loop[\"MAE Test % Change\"] = ((FRUFS_Loop[\"MAE Test\"]/sun_MAE_test) - 1)*100\n",
    "\n",
    "\n",
    "# FRUFS_Loop[\"MAE Train % Change\"] = FRUFS_Loop[\"MAE Train\"]\n",
    "# FRUFS_Loop[\"MAE Test % Change\"] = FRUFS_Loop[\"MAE Test\"]\n",
    "FRUFS_Loop = pd.DataFrame.from_dict(FRUFS_Loop)\n",
    "FRUFS_Long = pd.melt(FRUFS_Loop, ['Feature %'])\n",
    "\n",
    "FRUFS_Vis = FRUFS_Long.loc[FRUFS_Long['variable'].isin([\"MAE Train % Change\", \"MAE Test % Change\"])]\n",
    "\n",
    "ax = sns.lineplot(x='Feature %', y='value', hue='variable', \n",
    "             data=FRUFS_Vis)\n",
    "\n",
    "ax.invert_xaxis()\n",
    "\n",
    "ax.set(xlabel='% of Features returned by FRUFS', ylabel='% Change over the original scores')\n",
    "\n",
    "\n",
    "plt.show()\n",
    "\n",
    "print(\"Stop\")\n",
    "\n"
   ]
  },
  {
   "cell_type": "code",
   "execution_count": 4,
   "metadata": {},
   "outputs": [
    {
     "data": {
      "image/png": "[encoded data removed]",
      "text/plain": [
       "<Figure size 432x288 with 1 Axes>"
      ]
     },
     "metadata": {
      "needs_background": "light"
     },
     "output_type": "display_data"
    }
   ],
   "source": [
    "model_frufs_generated.feature_importance()"
   ]
  },
  {
   "cell_type": "code",
   "execution_count": null,
   "metadata": {},
   "outputs": [],
   "source": []
  }
 ],
 "metadata": {
  "interpreter": {
   "hash": "ecda2226e1d4421bab328a480e856f7e2efe4f4ade8deb7f822fd3214f8320da"
  },
  "kernelspec": {
   "display_name": "Python 3.10.4 ('test1')",
   "language": "python",
   "name": "python3"
  },
  "language_info": {
   "codemirror_mode": {
    "name": "ipython",
    "version": 3
   },
   "file_extension": ".py",
   "mimetype": "text/x-python",
   "name": "python",
   "nbconvert_exporter": "python",
   "pygments_lexer": "ipython3",
   "version": "3.10.4"
  },
  "orig_nbformat": 4,
  "vscode": {
   "interpreter": {
    "hash": "f37d671cb29aade7d0fe31a2179d89f9e8676d4011b60c54cf874dbf0cba3382"
   }
  }
 },
 "nbformat": 4,
 "nbformat_minor": 2
}
