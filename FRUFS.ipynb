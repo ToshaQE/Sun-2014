{
 "cells": [
  {
   "cell_type": "code",
   "execution_count": 1,
   "metadata": {},
   "outputs": [
    {
     "name": "stderr",
     "output_type": "stream",
     "text": [
      "/home/apoletaev/miniconda3/envs/test1/lib/python3.10/site-packages/tqdm/auto.py:22: TqdmWarning: IProgress not found. Please update jupyter and ipywidgets. See https://ipywidgets.readthedocs.io/en/stable/user_install.html\n",
      "  from .autonotebook import tqdm as notebook_tqdm\n"
     ]
    }
   ],
   "source": [
    "import pandas as pd\n",
    "import numpy as np\n",
    "import matplotlib.pyplot as plt\n",
    "from statsmodels.tsa.stattools import adfuller\n",
    "from scipy import stats\n",
    "from statsmodels.tsa.api import VAR\n",
    "from statsmodels.tools.eval_measures import rmse, aic\n",
    "from statsmodels.tsa.ar_model import AutoReg\n",
    "from statsmodels.tsa.stattools import grangercausalitytests\n",
    "import pickle\n",
    "from sklearn.model_selection import train_test_split\n",
    "import re\n",
    "\n",
    "\n",
    "from FRUFS import FRUFS\n",
    "import matplotlib.pyplot as plt\n",
    "import optuna\n",
    "import joblib, gc\n",
    "import lightgbm as lgb\n",
    "import seaborn as sns\n",
    "\n",
    "from sklearn.datasets import make_regression\n",
    "from scipy.stats import pearsonr\n",
    "from tqdm.notebook import trange, tqdm\n",
    "from FRUFS import FRUFS\n",
    "from sklearn.model_selection import train_test_split\n",
    "from sklearn.metrics import mean_squared_error"
   ]
  },
  {
   "cell_type": "code",
   "execution_count": 14,
   "metadata": {},
   "outputs": [
    {
     "name": "stderr",
     "output_type": "stream",
     "text": [
      "Progress bar: 100%|██████████| 13/13 [00:06<00:00,  1.88it/s]"
     ]
    },
    {
     "name": "stdout",
     "output_type": "stream",
     "text": [
      "MAE Train = 0.01123169220602513; MAE_test = 0.009283562848508837\n"
     ]
    },
    {
     "name": "stderr",
     "output_type": "stream",
     "text": [
      "\n"
     ]
    }
   ],
   "source": [
    "# Unpickling the data\n",
    "infile = open(\"Sun_Model_Data\",'rb')\n",
    "Model_Data = pickle.load(infile)\n",
    "infile.close()\n",
    "\n",
    "# Reading in the data\n",
    "df = Model_Data.train_x\n",
    "sun_y_train = Model_Data.train_y\n",
    "sun_y_test = Model_Data.test_y\n",
    "sun_x_test = Model_Data.test_x\n",
    "\n",
    "\n",
    "# Defining FRUFS model with k=3 maximum features\n",
    "model_frufs_generated = FRUFS(\n",
    "        model_r=lgb.LGBMRegressor(random_state=42),\n",
    "        k=3\n",
    "        #categorical_features = [\"#Buys\", \"# Hold\", \"# Sell\", \"Total Rec\"]\n",
    "    )\n",
    "model_frufs_generated.fit(df)\n",
    "# Saving the features selected by FRUFS in a seperate dataframe \n",
    "pruned_df = model_frufs_generated.transform(df)\n",
    "\n",
    "# Training the model on the features selected by FRUFS\n",
    "frufs_model = AutoReg(sun_y_train, lags=0, exog=pruned_df).fit()\n",
    "# Calculating MAE train (.sqeeze is reuired when sun_y is saved as a DF and not series)\n",
    "MAE_train = np.nanmean(abs(frufs_model.predict() - sun_y_train.squeeze()))\n",
    "\n",
    "# Saving names of the features selected by FRUFS in a list\n",
    "frufs_features = list(pruned_df.columns)\n",
    "\n",
    "# Defining test dataset with only features selected by FRUFS \n",
    "frufs_x_test = sun_x_test[frufs_features]\n",
    "\n",
    "# Defining first and last out-of-sample indices to predict\n",
    "first_oos_ind = len(sun_y_train)\n",
    "last_oos_ind = first_oos_ind + len(sun_y_test) - 1\n",
    "\n",
    "# Predicting the oos ys with the test data\n",
    "y_pred_out_frufs = frufs_model.predict(start=first_oos_ind, end=last_oos_ind, exog_oos=frufs_x_test)\n",
    "# Resetting index to make MAE_test calcuation possible\n",
    "y_pred_out_frufs.reset_index(drop=True, inplace=True)\n",
    "# Calculating MAE Test\n",
    "MAE_test = np.nanmean(abs(y_pred_out_frufs - sun_y_test.squeeze()))\n",
    "\n",
    "print(f\"MAE Train = {MAE_train}; MAE_test = {MAE_test}\")\n"
   ]
  },
  {
   "cell_type": "code",
   "execution_count": 15,
   "metadata": {},
   "outputs": [
    {
     "data": {
      "image/png": "[encoded data removed]",
      "text/plain": [
       "<Figure size 432x288 with 1 Axes>"
      ]
     },
     "metadata": {
      "needs_background": "light"
     },
     "output_type": "display_data"
    }
   ],
   "source": [
    "model_frufs_generated.feature_importance()"
   ]
  },
  {
   "cell_type": "code",
   "execution_count": null,
   "metadata": {},
   "outputs": [],
   "source": [
    "# set up logging to console\n",
    "console = logging.StreamHandler()\n",
    "console.setLevel(logging.DEBUG)\n",
    "# set a format which is simpler for console use\n",
    "formatter = logging.Formatter('%(name)-12s: %(levelname)-8s %(message)s')\n",
    "console.setFormatter(formatter)\n",
    "# add the handler to the root logger\n",
    "logging.getLogger('').addHandler(console)\n",
    "\n",
    "logger = logging.getLogger(__name__)"
   ]
  }
 ],
 "metadata": {
  "interpreter": {
   "hash": "ecda2226e1d4421bab328a480e856f7e2efe4f4ade8deb7f822fd3214f8320da"
  },
  "kernelspec": {
   "display_name": "Python 3.10.4 ('test1')",
   "language": "python",
   "name": "python3"
  },
  "language_info": {
   "codemirror_mode": {
    "name": "ipython",
    "version": 3
   },
   "file_extension": ".py",
   "mimetype": "text/x-python",
   "name": "python",
   "nbconvert_exporter": "python",
   "pygments_lexer": "ipython3",
   "version": "3.10.4"
  },
  "orig_nbformat": 4
 },
 "nbformat": 4,
 "nbformat_minor": 2
}
